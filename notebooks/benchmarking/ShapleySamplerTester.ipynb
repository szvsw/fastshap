{
 "cells": [
  {
   "cell_type": "code",
   "execution_count": 1,
   "metadata": {},
   "outputs": [],
   "source": [
    "import torch\n",
    "import time\n",
    "import numpy as np\n",
    "import matplotlib.pyplot as plt\n",
    "from torch.distributions.categorical import Categorical\n",
    "import pandas as pd\n",
    "import plotly.express as px"
   ]
  },
  {
   "cell_type": "code",
   "execution_count": 2,
   "metadata": {},
   "outputs": [],
   "source": [
    "class ShapleySamplerOriginal:\n",
    "    \"\"\"\n",
    "    For sampling player subsets from the Shapley distribution.\n",
    "\n",
    "    Args:\n",
    "      num_players: number of players.\n",
    "    \"\"\"\n",
    "\n",
    "    def __init__(self, num_players):\n",
    "        arange = torch.arange(1, num_players)\n",
    "        w = 1 / (arange * (num_players - arange))\n",
    "        w = w / torch.sum(w)\n",
    "        self.categorical = Categorical(probs=w)\n",
    "        self.num_players = num_players\n",
    "        self.tril = torch.tril(\n",
    "            torch.ones(num_players - 1, num_players, dtype=torch.float32), diagonal=0\n",
    "        )\n",
    "\n",
    "    def sample(self, batch_size, paired_sampling):\n",
    "        \"\"\"\n",
    "        Generate sample.\n",
    "\n",
    "        Args:\n",
    "          batch_size: number of samples.\n",
    "          paired_sampling: whether to use paired sampling.\n",
    "        \"\"\"\n",
    "        num_included = 1 + self.categorical.sample([batch_size])\n",
    "        S = self.tril[num_included - 1]\n",
    "        # TODO ideally avoid for loops\n",
    "        for i in range(batch_size):\n",
    "            if paired_sampling and i % 2 == 1:\n",
    "                S[i] = 1 - S[i - 1]\n",
    "            else:\n",
    "                S[i] = S[i, torch.randperm(self.num_players)]\n",
    "        return S\n",
    "\n",
    "\n",
    "class ShapleySamplerArgSortCPU:\n",
    "    \"\"\"\n",
    "    For sampling player subsets from the Shapley distribution.\n",
    "\n",
    "    Args:\n",
    "      num_players: number of players.\n",
    "    \"\"\"\n",
    "\n",
    "    def __init__(self, num_players):\n",
    "        arange = torch.arange(1, num_players)\n",
    "        w = 1 / (arange * (num_players - arange))\n",
    "        w = w / torch.sum(w)\n",
    "        self.categorical = Categorical(probs=w)\n",
    "        self.num_players = num_players\n",
    "        self.tril = torch.tril(\n",
    "            torch.ones(num_players - 1, num_players, dtype=torch.float32), diagonal=0\n",
    "        )\n",
    "\n",
    "    def sample(self, batch_size, paired_sampling):\n",
    "        \"\"\"\n",
    "        Generate sample.\n",
    "\n",
    "        Args:\n",
    "          batch_size: number of samples.\n",
    "          paired_sampling: whether to use paired sampling.\n",
    "        \"\"\"\n",
    "        num_included = 1 + self.categorical.sample([batch_size])\n",
    "        S = self.tril[num_included - 1]\n",
    "        # Generate a random ordering of indices for each row\n",
    "        indices = torch.argsort(torch.rand_like(S), dim=-1)\n",
    "        # Execute the permutation\n",
    "        S = torch.gather(S, dim=-1, index=indices)\n",
    "        if paired_sampling:\n",
    "            S[1::2] = 1 - S[0 : batch_size - 1 : 2]\n",
    "        return S\n",
    "\n",
    "\n",
    "class ShapleySamplerArgSortGPU:\n",
    "    \"\"\"\n",
    "    For sampling player subsets from the Shapley distribution.\n",
    "\n",
    "    Args:\n",
    "      num_players: number of players.\n",
    "    \"\"\"\n",
    "\n",
    "    def __init__(self, num_players):\n",
    "        arange = torch.arange(1, num_players)\n",
    "        w = 1 / (arange * (num_players - arange))\n",
    "        w = w / torch.sum(w)\n",
    "        self.categorical = Categorical(probs=w)\n",
    "        self.num_players = num_players\n",
    "        self.tril = torch.tril(\n",
    "            torch.ones(num_players - 1, num_players, dtype=torch.float32), diagonal=0\n",
    "        ).to(\"cuda\")\n",
    "\n",
    "    def sample(self, batch_size, paired_sampling):\n",
    "        \"\"\"\n",
    "        Generate sample.\n",
    "\n",
    "        Args:\n",
    "          batch_size: number of samples.\n",
    "          paired_sampling: whether to use paired sampling.\n",
    "        \"\"\"\n",
    "        num_included = (1 + self.categorical.sample([batch_size])).to(\"cuda\")\n",
    "        S = self.tril[num_included - 1]\n",
    "        # Generate a random ordering of indices for each row\n",
    "        indices = torch.argsort(torch.rand_like(S), dim=-1)\n",
    "        # Execute the permutation\n",
    "        S = torch.gather(S, dim=-1, index=indices)\n",
    "        if paired_sampling:\n",
    "            S[1::2] = 1 - S[0 : batch_size - 1 : 2]\n",
    "        return S\n",
    "\n",
    "\n",
    "class ShapleySamplerMultinomialCPU:\n",
    "    \"\"\"\n",
    "    For sampling player subsets from the Shapley distribution.\n",
    "\n",
    "    Args:\n",
    "      num_players: number of players.\n",
    "    \"\"\"\n",
    "\n",
    "    def __init__(self, num_players):\n",
    "        arange = torch.arange(1, num_players)\n",
    "        w = 1 / (arange * (num_players - arange))\n",
    "        w = w / torch.sum(w)\n",
    "        self.categorical = Categorical(probs=w)\n",
    "        self.num_players = num_players\n",
    "        self.tril = torch.tril(\n",
    "            torch.ones(num_players - 1, num_players, dtype=torch.float32), diagonal=0\n",
    "        )\n",
    "\n",
    "    def sample(self, batch_size, paired_sampling):\n",
    "        \"\"\"\n",
    "        Generate sample.\n",
    "\n",
    "        Args:\n",
    "          batch_size: number of samples.\n",
    "          paired_sampling: whether to use paired sampling.\n",
    "        \"\"\"\n",
    "        num_included = 1 + self.categorical.sample([batch_size])\n",
    "        S = self.tril[num_included - 1]\n",
    "        # Generate a random ordering of indices for each row\n",
    "        ix_weights = torch.ones(batch_size, self.num_players)\n",
    "        indices = torch.multinomial(ix_weights, self.num_players, replacement=False)\n",
    "        # Execute the permutation\n",
    "        S = torch.gather(S, dim=-1, index=indices)\n",
    "        if paired_sampling:\n",
    "            S[1::2] = 1 - S[0 : batch_size - 1 : 2]\n",
    "        return S\n",
    "\n",
    "\n",
    "class ShapleySamplerMultinomialGPU:\n",
    "    \"\"\"\n",
    "    For sampling player subsets from the Shapley distribution.\n",
    "\n",
    "    Args:\n",
    "      num_players: number of players.\n",
    "    \"\"\"\n",
    "\n",
    "    def __init__(self, num_players):\n",
    "        arange = torch.arange(1, num_players)\n",
    "        w = 1 / (arange * (num_players - arange))\n",
    "        w = w / torch.sum(w)\n",
    "        self.categorical = Categorical(probs=w)\n",
    "        self.num_players = num_players\n",
    "        self.tril = torch.tril(\n",
    "            torch.ones(num_players - 1, num_players, dtype=torch.float32), diagonal=0\n",
    "        ).to(\"cuda\")\n",
    "\n",
    "    def sample(self, batch_size, paired_sampling):\n",
    "        \"\"\"\n",
    "        Generate sample.\n",
    "\n",
    "        Args:\n",
    "          batch_size: number of samples.\n",
    "          paired_sampling: whether to use paired sampling.\n",
    "        \"\"\"\n",
    "        num_included = (1 + self.categorical.sample([batch_size])).to(\"cuda\")\n",
    "        S = self.tril[num_included - 1]\n",
    "        # Generate a random ordering of indices for each row\n",
    "        ix_weights = torch.ones(batch_size, self.num_players).to(\"cuda\")\n",
    "        indices = torch.multinomial(ix_weights, self.num_players, replacement=False)\n",
    "        # Execute the permutation\n",
    "        S = torch.gather(S, dim=-1, index=indices)\n",
    "        if paired_sampling:\n",
    "            S[1::2] = 1 - S[0 : batch_size - 1 : 2]\n",
    "        return S\n",
    "\n",
    "\n",
    "class ShapleySamplerThreshCPU:\n",
    "    \"\"\"\n",
    "    For sampling player subsets from the Shapley distribution.\n",
    "\n",
    "    Args:\n",
    "      num_players: number of players.\n",
    "    \"\"\"\n",
    "\n",
    "    def __init__(self, num_players):\n",
    "        arange = torch.arange(1, num_players)\n",
    "        w = 1 / (arange * (num_players - arange))\n",
    "        w = w / torch.sum(w)\n",
    "        self.categorical = Categorical(probs=w)\n",
    "        self.num_players = num_players\n",
    "\n",
    "    def sample(self, batch_size, paired_sampling):\n",
    "        \"\"\"\n",
    "        Generate sample.\n",
    "\n",
    "        Args:\n",
    "          batch_size: number of samples.\n",
    "          paired_sampling: whether to use paired sampling.\n",
    "        \"\"\"\n",
    "        # 'num_included' ranges from 0...num_players-2, corresponds to selecting 1...num_players-1\n",
    "        num_included = self.categorical.sample([batch_size])\n",
    "        # We will be generating (batch_size x self.num_players-2) samples, \n",
    "        # and we want the expected value of the sum of each row\n",
    "        # to be the 'num_included' value for that row\n",
    "        thresh = (num_included / (self.num_players - 2)).reshape(-1, 1) \n",
    "        # random test values\n",
    "        test = torch.rand(batch_size, self.num_players - 2)\n",
    "        S_partial = (thresh > test).float()\n",
    "        S = torch.zeros(batch_size, self.num_players)\n",
    "        S[:, 1] = 1  # First column is a zero, second column is a 1\n",
    "        S[:, 2:] = S_partial  # remaining columns are 0-1\n",
    "        # we will now rotate each row by a random distance using gather\n",
    "        # generate a [[0,...num_players-1], [0,...,num_players-1],...] matrix\n",
    "        shifter = torch.arange(self.num_players).reshape(1, -1).tile(batch_size, 1)\n",
    "        # rotate the indices by a random amount\n",
    "        shifter = (\n",
    "            shifter + torch.randint(0, self.num_players, (batch_size, 1))\n",
    "        ) % self.num_players\n",
    "        S = torch.gather(S, dim=-1, index=shifter)\n",
    "\n",
    "        if paired_sampling:\n",
    "            S[1::2] = 1 - S[0 : batch_size - 1 : 2]\n",
    "        return S\n",
    "\n",
    "\n",
    "class ShapleySamplerThreshGPU:\n",
    "    \"\"\"\n",
    "    For sampling player subsets from the Shapley distribution.\n",
    "\n",
    "    Args:\n",
    "      num_players: number of players.\n",
    "    \"\"\"\n",
    "\n",
    "    def __init__(self, num_players):\n",
    "        arange = torch.arange(1, num_players)\n",
    "        w = 1 / (arange * (num_players - arange))\n",
    "        w = w / torch.sum(w)\n",
    "        self.categorical = Categorical(probs=w)\n",
    "        self.num_players = num_players\n",
    "\n",
    "    def sample(self, batch_size, paired_sampling):\n",
    "        \"\"\"\n",
    "        Generate sample.  \n",
    "\n",
    "        Args:\n",
    "          batch_size: number of samples.\n",
    "          paired_sampling: whether to use paired sampling.\n",
    "        \"\"\"\n",
    "        # 'num_included' ranges from 0...num_players-2, corresponds to selecting 1...num_players-1\n",
    "        num_included = (self.categorical.sample([batch_size])).to(\"cuda\")\n",
    "        # We will be generating (batch_size x self.num_players-2) samples, \n",
    "        # and we want the expected value of the sum of each row\n",
    "        # to be the 'num_included' value for that row\n",
    "        thresh = (num_included / (self.num_players - 2)).reshape(-1, 1)\n",
    "        # random test values\n",
    "        test = torch.rand(batch_size, self.num_players - 2).to(\"cuda\")\n",
    "        S_partial = (thresh > test).float()\n",
    "        S = torch.zeros(batch_size, self.num_players).to(\"cuda\")\n",
    "        S[:, 1] = 1  # First column is a zero, second column is a 1\n",
    "        S[:, 2:] = S_partial  # remaining columns are 0-1\n",
    "        # we will now rotate each row by a random distance using gather\n",
    "        # generate a [[0,...num_players-1], [0,...,num_players-1],...] matrix\n",
    "        shifter = (\n",
    "            torch.arange(self.num_players).to(\"cuda\").reshape(1, -1).tile(batch_size, 1)\n",
    "        )\n",
    "        # rotate the indices by a random amount\n",
    "        shifter = (\n",
    "            shifter + torch.randint(0, self.num_players, (batch_size, 1)).to(\"cuda\")\n",
    "        ) % self.num_players\n",
    "        # perform the row-level of rotation\n",
    "        S = torch.gather(S, dim=-1, index=shifter)\n",
    "\n",
    "        if paired_sampling:\n",
    "            S[1::2] = 1 - S[0 : batch_size - 1 : 2]\n",
    "        return S\n",
    "\n",
    "class ShapleySamplerNumpyPermuteCPU:\n",
    "    \"\"\"\n",
    "    For sampling player subsets from the Shapley distribution.\n",
    "\n",
    "    Args:\n",
    "      num_players: number of players.\n",
    "    \"\"\"\n",
    "\n",
    "    def __init__(self, num_players):\n",
    "        arange = torch.arange(1, num_players)\n",
    "        w = 1 / (arange * (num_players - arange))\n",
    "        w = w / torch.sum(w)\n",
    "        self.categorical = Categorical(probs=w)\n",
    "        self.num_players = num_players\n",
    "        self.tril = np.tril(\n",
    "            np.ones((num_players - 1, num_players), dtype=np.float32), k=0\n",
    "        )\n",
    "        self.rng = np.random.default_rng()\n",
    "\n",
    "    def sample(self, batch_size, paired_sampling):\n",
    "        \"\"\"\n",
    "        Generate sample.\n",
    "\n",
    "        Args:\n",
    "          batch_size: number of samples.\n",
    "          paired_sampling: whether to use paired sampling.\n",
    "        \"\"\"\n",
    "        num_included = 1 + self.categorical.sample([batch_size])\n",
    "        S = self.tril[num_included - 1]\n",
    "        # Generate a random ordering of indices for each row\n",
    "        S = self.rng.permuted(S,axis=-1)\n",
    "        S = torch.from_numpy(S)\n",
    "        if paired_sampling:\n",
    "            S[1::2] = 1 - S[0 : batch_size - 1 : 2]\n",
    "        return S\n"
   ]
  },
  {
   "cell_type": "code",
   "execution_count": 3,
   "metadata": {},
   "outputs": [],
   "source": [
    "samplers = [\n",
    "    ShapleySamplerOriginal,\n",
    "    ShapleySamplerArgSortCPU,\n",
    "    ShapleySamplerMultinomialCPU,\n",
    "    ShapleySamplerThreshCPU,\n",
    "    ShapleySamplerNumpyPermuteCPU,\n",
    "    ShapleySamplerArgSortGPU,\n",
    "    ShapleySamplerMultinomialGPU,\n",
    "    ShapleySamplerThreshGPU,\n",
    "]"
   ]
  },
  {
   "cell_type": "code",
   "execution_count": 4,
   "metadata": {},
   "outputs": [
    {
     "data": {
      "image/png": "[encoded data removed]",
      "text/plain": [
       "<Figure size 640x480 with 1 Axes>"
      ]
     },
     "metadata": {},
     "output_type": "display_data"
    }
   ],
   "source": [
    "n = 12\n",
    "samplers_distro_test = [Sampler(n) for Sampler in samplers if 'GPU' not in Sampler.__name__]\n",
    "counts = [\n",
    "    s.sample(100000, paired_sampling=False).sum(dim=1).cpu()\n",
    "    for s in samplers_distro_test\n",
    "]\n",
    "plt.hist(\n",
    "    counts,\n",
    "    bins=n - 1,\n",
    "    label=[Sampler.__class__.__name__ for Sampler in samplers_distro_test],\n",
    ")\n",
    "plt.legend()\n",
    "plt.title(\"Distribution of Subset Sizes Generated [num_players = 12]\")\n",
    "plt.xlabel(\"Subset Size\")\n",
    "plt.show()"
   ]
  },
  {
   "cell_type": "code",
   "execution_count": 5,
   "metadata": {},
   "outputs": [
    {
     "data": {
      "image/png": "[encoded data removed]",
      "text/plain": [
       "<Figure size 640x480 with 1 Axes>"
      ]
     },
     "metadata": {},
     "output_type": "display_data"
    }
   ],
   "source": [
    "n = 32\n",
    "samplers_distro_test = [Sampler(n) for Sampler in samplers if 'GPU' not in Sampler.__name__]\n",
    "counts = [\n",
    "    s.sample(100000, paired_sampling=False).sum(dim=1).cpu()\n",
    "    for s in samplers_distro_test\n",
    "]\n",
    "plt.hist(\n",
    "    counts,\n",
    "    bins=n - 1,\n",
    "    label=[Sampler.__class__.__name__ for Sampler in samplers_distro_test],\n",
    ")\n",
    "plt.legend()\n",
    "plt.title(\"Distribution of Subset Sizes Generated [num_players=32]\")\n",
    "plt.xlabel(\"Subset Size\")\n",
    "plt.show()"
   ]
  },
  {
   "cell_type": "code",
   "execution_count": 6,
   "metadata": {},
   "outputs": [],
   "source": [
    "def testSS(Sampler, n, num_players, batch_size):\n",
    "    u = Sampler(num_players)\n",
    "    s = time.time()\n",
    "    for i in range(n):\n",
    "        u.sample(batch_size, paired_sampling=True)\n",
    "    s_per_it = (time.time() - s) / n\n",
    "    return s_per_it"
   ]
  },
  {
   "cell_type": "code",
   "execution_count": 7,
   "metadata": {},
   "outputs": [],
   "source": [
    "num_players = [16, 32, 64, 128, 256, 512, 1024]\n",
    "batch_sizes = [16, 32, 64, 128, 256, 512, 1024]\n",
    "results = []\n",
    "for i, ShapSamp in enumerate(samplers):\n",
    "    for p in num_players:\n",
    "        for b in batch_sizes:\n",
    "            results.append(\n",
    "                (i, p, b, testSS(ShapSamp, n=100, num_players=p, batch_size=b))\n",
    "            )\n",
    "results = pd.DataFrame(\n",
    "    np.array(results), columns=[\"Sampler\", \"Number of Players\", \"Batch Size\", \"runtime\"]\n",
    ")"
   ]
  },
  {
   "cell_type": "code",
   "execution_count": 8,
   "metadata": {},
   "outputs": [],
   "source": [
    "results[\"Number of Players\"] = results[\"Number of Players\"].astype(int)\n",
    "results[\"Batch Size (log2 scale)\"] = np.log2(results[\"Batch Size\"])\n",
    "results[\"Number of Players (log2 scale)\"] = np.log2(results[\"Number of Players\"])\n",
    "results[\"Runtime (ms/invocation)\"] = results[\"runtime\"] * 1e3\n",
    "results[\"Sampler Algo\"] = (\n",
    "    results[\"Sampler\"]\n",
    "    .astype(int)\n",
    "    .map(\n",
    "        {\n",
    "            i: S.__name__.split(\"ShapleySampler\")[1] for i,S in enumerate(samplers)\n",
    "        }\n",
    "    )\n",
    ")"
   ]
  },
  {
   "cell_type": "code",
   "execution_count": 9,
   "metadata": {},
   "outputs": [
    {
     "data": {
      "application/vnd.plotly.v1+json": {
       "config": {
        "plotlyServerURL": "https://plot.ly"
       },
       "data": [
        {
         "alignmentgroup": "True",
         "hovertemplate": "Sampler Algo=Original<br>Number of Players=16<br>Batch Size (log2 scale)=%{x}<br>Runtime (ms/invocation)=%{y}<extra></extra>",
         "legendgroup": "Original",
         "marker": {
          "color": "#636efa",
          "pattern": {
           "shape": ""
          }
         },
         "name": "Original",
         "offsetgroup": "Original",
         "orientation": "v",
         "showlegend": true,
         "textposition": "auto",
         "type": "bar",
         "x": [
          4,
          5,
          6,
          7,
          8,
          9,
          10
         ],
         "xaxis": "x7",
         "y": [
          0.45514345169067383,
          0.7901835441589355,
          1.4508652687072754,
          2.891702651977539,
          6.084041595458984,
          11.938393115997314,
          23.84711503982544
         ],
         "yaxis": "y7"
        },
        {
         "alignmentgroup": "True",
         "hovertemplate": "Sampler Algo=Original<br>Number of Players=32<br>Batch Size (log2 scale)=%{x}<br>Runtime (ms/invocation)=%{y}<extra></extra>",
         "legendgroup": "Original",
         "marker": {
          "color": "#636efa",
          "pattern": {
           "shape": ""
          }
         },
         "name": "Original",
         "offsetgroup": "Original",
         "orientation": "v",
         "showlegend": false,
         "textposition": "auto",
         "type": "bar",
         "x": [
          4,
          5,
          6,
          7,
          8,
          9,
          10
         ],
         "xaxis": "x8",
         "y": [
          0.412137508392334,
          0.7956886291503906,
          1.5714406967163086,
          3.0406785011291504,
          5.869269371032715,
          12.00995683670044,
          23.59142303466797
         ],
         "yaxis": "y8"
        },
        {
         "alignmentgroup": "True",
         "hovertemplate": "Sampler Algo=Original<br>Number of Players=64<br>Batch Size (log2 scale)=%{x}<br>Runtime (ms/invocation)=%{y}<extra></extra>",
         "legendgroup": "Original",
         "marker": {
          "color": "#636efa",
          "pattern": {
           "shape": ""
          }
         },
         "name": "Original",
         "offsetgroup": "Original",
         "orientation": "v",
         "showlegend": false,
         "textposition": "auto",
         "type": "bar",
         "x": [
          4,
          5,
          6,
          7,
          8,
          9,
          10
         ],
         "xaxis": "x9",
         "y": [
          0.43119192123413086,
          0.8411026000976562,
          1.529529094696045,
          2.9735803604125977,
          5.762689113616943,
          11.886346340179443,
          24.131004810333252
         ],
         "yaxis": "y9"
        },
        {
         "alignmentgroup": "True",
         "hovertemplate": "Sampler Algo=Original<br>Number of Players=128<br>Batch Size (log2 scale)=%{x}<br>Runtime (ms/invocation)=%{y}<extra></extra>",
         "legendgroup": "Original",
         "marker": {
          "color": "#636efa",
          "pattern": {
           "shape": ""
          }
         },
         "name": "Original",
         "offsetgroup": "Original",
         "orientation": "v",
         "showlegend": false,
         "textposition": "auto",
         "type": "bar",
         "x": [
          4,
          5,
          6,
          7,
          8,
          9,
          10
         ],
         "xaxis": "x4",
         "y": [
          0.41642189025878906,
          0.8480453491210938,
          1.5264105796813965,
          3.061249256134033,
          6.057546138763428,
          12.136614322662354,
          24.491539001464844
         ],
         "yaxis": "y4"
        },
        {
         "alignmentgroup": "True",
         "hovertemplate": "Sampler Algo=Original<br>Number of Players=256<br>Batch Size (log2 scale)=%{x}<br>Runtime (ms/invocation)=%{y}<extra></extra>",
         "legendgroup": "Original",
         "marker": {
          "color": "#636efa",
          "pattern": {
           "shape": ""
          }
         },
         "name": "Original",
         "offsetgroup": "Original",
         "orientation": "v",
         "showlegend": false,
         "textposition": "auto",
         "type": "bar",
         "x": [
          4,
          5,
          6,
          7,
          8,
          9,
          10
         ],
         "xaxis": "x5",
         "y": [
          0.46888113021850586,
          0.8559370040893555,
          1.6996335983276367,
          3.2242608070373535,
          6.393380165100098,
          12.718243598937988,
          25.35271644592285
         ],
         "yaxis": "y5"
        },
        {
         "alignmentgroup": "True",
         "hovertemplate": "Sampler Algo=Original<br>Number of Players=512<br>Batch Size (log2 scale)=%{x}<br>Runtime (ms/invocation)=%{y}<extra></extra>",
         "legendgroup": "Original",
         "marker": {
          "color": "#636efa",
          "pattern": {
           "shape": ""
          }
         },
         "name": "Original",
         "offsetgroup": "Original",
         "orientation": "v",
         "showlegend": false,
         "textposition": "auto",
         "type": "bar",
         "x": [
          4,
          5,
          6,
          7,
          8,
          9,
          10
         ],
         "xaxis": "x6",
         "y": [
          0.46045541763305664,
          0.9475851058959961,
          1.816861629486084,
          3.492269515991211,
          6.928865909576416,
          14.483516216278076,
          28.153533935546875
         ],
         "yaxis": "y6"
        },
        {
         "alignmentgroup": "True",
         "hovertemplate": "Sampler Algo=Original<br>Number of Players=1024<br>Batch Size (log2 scale)=%{x}<br>Runtime (ms/invocation)=%{y}<extra></extra>",
         "legendgroup": "Original",
         "marker": {
          "color": "#636efa",
          "pattern": {
           "shape": ""
          }
         },
         "name": "Original",
         "offsetgroup": "Original",
         "orientation": "v",
         "showlegend": false,
         "textposition": "auto",
         "type": "bar",
         "x": [
          4,
          5,
          6,
          7,
          8,
          9,
          10
         ],
         "xaxis": "x",
         "y": [
          0.5618071556091309,
          1.0377979278564453,
          1.9526314735412598,
          3.902163505554199,
          8.206384181976318,
          16.10469102859497,
          31.79743766784668
         ],
         "yaxis": "y"
        },
        {
         "alignmentgroup": "True",
         "hovertemplate": "Sampler Algo=ArgSortCPU<br>Number of Players=16<br>Batch Size (log2 scale)=%{x}<br>Runtime (ms/invocation)=%{y}<extra></extra>",
         "legendgroup": "ArgSortCPU",
         "marker": {
          "color": "#EF553B",
          "pattern": {
           "shape": ""
          }
         },
         "name": "ArgSortCPU",
         "offsetgroup": "ArgSortCPU",
         "orientation": "v",
         "showlegend": true,
         "textposition": "auto",
         "type": "bar",
         "x": [
          4,
          5,
          6,
          7,
          8,
          9,
          10
         ],
         "xaxis": "x7",
         "y": [
          0.13007640838623047,
          0.12004852294921875,
          0.1456284523010254,
          0.2101302146911621,
          0.29022693634033203,
          0.4456758499145508,
          0.7006573677062988
         ],
         "yaxis": "y7"
        },
        {
         "alignmentgroup": "True",
         "hovertemplate": "Sampler Algo=ArgSortCPU<br>Number of Players=32<br>Batch Size (log2 scale)=%{x}<br>Runtime (ms/invocation)=%{y}<extra></extra>",
         "legendgroup": "ArgSortCPU",
         "marker": {
          "color": "#EF553B",
          "pattern": {
           "shape": ""
          }
         },
         "name": "ArgSortCPU",
         "offsetgroup": "ArgSortCPU",
         "orientation": "v",
         "showlegend": false,
         "textposition": "auto",
         "type": "bar",
         "x": [
          4,
          5,
          6,
          7,
          8,
          9,
          10
         ],
         "xaxis": "x8",
         "y": [
          0.12506723403930664,
          0.15014171600341797,
          0.21011829376220703,
          0.315244197845459,
          0.5404925346374512,
          1.005868911743164,
          1.871936321258545
         ],
         "yaxis": "y8"
        },
        {
         "alignmentgroup": "True",
         "hovertemplate": "Sampler Algo=ArgSortCPU<br>Number of Players=64<br>Batch Size (log2 scale)=%{x}<br>Runtime (ms/invocation)=%{y}<extra></extra>",
         "legendgroup": "ArgSortCPU",
         "marker": {
          "color": "#EF553B",
          "pattern": {
           "shape": ""
          }
         },
         "name": "ArgSortCPU",
         "offsetgroup": "ArgSortCPU",
         "orientation": "v",
         "showlegend": false,
         "textposition": "auto",
         "type": "bar",
         "x": [
          4,
          5,
          6,
          7,
          8,
          9,
          10
         ],
         "xaxis": "x9",
         "y": [
          0.20143508911132812,
          0.2551865577697754,
          0.42575597763061523,
          0.625913143157959,
          1.1717700958251953,
          2.3685812950134277,
          2.6677441596984863
         ],
         "yaxis": "y9"
        },
        {
         "alignmentgroup": "True",
         "hovertemplate": "Sampler Algo=ArgSortCPU<br>Number of Players=128<br>Batch Size (log2 scale)=%{x}<br>Runtime (ms/invocation)=%{y}<extra></extra>",
         "legendgroup": "ArgSortCPU",
         "marker": {
          "color": "#EF553B",
          "pattern": {
           "shape": ""
          }
         },
         "name": "ArgSortCPU",
         "offsetgroup": "ArgSortCPU",
         "orientation": "v",
         "showlegend": false,
         "textposition": "auto",
         "type": "bar",
         "x": [
          4,
          5,
          6,
          7,
          8,
          9,
          10
         ],
         "xaxis": "x4",
         "y": [
          0.2652430534362793,
          0.47543764114379883,
          0.7857942581176758,
          1.479349136352539,
          2.8253698348999023,
          3.2016730308532715,
          3.8642311096191406
         ],
         "yaxis": "y4"
        },
        {
         "alignmentgroup": "True",
         "hovertemplate": "Sampler Algo=ArgSortCPU<br>Number of Players=256<br>Batch Size (log2 scale)=%{x}<br>Runtime (ms/invocation)=%{y}<extra></extra>",
         "legendgroup": "ArgSortCPU",
         "marker": {
          "color": "#EF553B",
          "pattern": {
           "shape": ""
          }
         },
         "name": "ArgSortCPU",
         "offsetgroup": "ArgSortCPU",
         "orientation": "v",
         "showlegend": false,
         "textposition": "auto",
         "type": "bar",
         "x": [
          4,
          5,
          6,
          7,
          8,
          9,
          10
         ],
         "xaxis": "x5",
         "y": [
          0.49138545989990234,
          0.8709716796875,
          1.6483736038208008,
          3.0655312538146973,
          3.2884740829467773,
          4.073121547698975,
          6.447439193725586
         ],
         "yaxis": "y5"
        },
        {
         "alignmentgroup": "True",
         "hovertemplate": "Sampler Algo=ArgSortCPU<br>Number of Players=512<br>Batch Size (log2 scale)=%{x}<br>Runtime (ms/invocation)=%{y}<extra></extra>",
         "legendgroup": "ArgSortCPU",
         "marker": {
          "color": "#EF553B",
          "pattern": {
           "shape": ""
          }
         },
         "name": "ArgSortCPU",
         "offsetgroup": "ArgSortCPU",
         "orientation": "v",
         "showlegend": false,
         "textposition": "auto",
         "type": "bar",
         "x": [
          4,
          5,
          6,
          7,
          8,
          9,
          10
         ],
         "xaxis": "x6",
         "y": [
          1.0368919372558594,
          1.8214607238769531,
          3.6194419860839844,
          3.9006400108337402,
          4.627513885498047,
          6.894114017486572,
          11.98115348815918
         ],
         "yaxis": "y6"
        },
        {
         "alignmentgroup": "True",
         "hovertemplate": "Sampler Algo=ArgSortCPU<br>Number of Players=1024<br>Batch Size (log2 scale)=%{x}<br>Runtime (ms/invocation)=%{y}<extra></extra>",
         "legendgroup": "ArgSortCPU",
         "marker": {
          "color": "#EF553B",
          "pattern": {
           "shape": ""
          }
         },
         "name": "ArgSortCPU",
         "offsetgroup": "ArgSortCPU",
         "orientation": "v",
         "showlegend": false,
         "textposition": "auto",
         "type": "bar",
         "x": [
          4,
          5,
          6,
          7,
          8,
          9,
          10
         ],
         "xaxis": "x",
         "y": [
          2.1045970916748047,
          4.008302688598633,
          4.424653053283691,
          5.2536725997924805,
          7.5136518478393555,
          13.212292194366455,
          25.56468963623047
         ],
         "yaxis": "y"
        },
        {
         "alignmentgroup": "True",
         "hovertemplate": "Sampler Algo=MultinomialCPU<br>Number of Players=16<br>Batch Size (log2 scale)=%{x}<br>Runtime (ms/invocation)=%{y}<extra></extra>",
         "legendgroup": "MultinomialCPU",
         "marker": {
          "color": "#00cc96",
          "pattern": {
           "shape": ""
          }
         },
         "name": "MultinomialCPU",
         "offsetgroup": "MultinomialCPU",
         "orientation": "v",
         "showlegend": true,
         "textposition": "auto",
         "type": "bar",
         "x": [
          4,
          5,
          6,
          7,
          8,
          9,
          10
         ],
         "xaxis": "x7",
         "y": [
          0.1801896095275879,
          0.19020318984985352,
          0.2101445198059082,
          0.2552008628845215,
          0.30622005462646484,
          0.5102014541625977,
          0.8204174041748047
         ],
         "yaxis": "y7"
        },
        {
         "alignmentgroup": "True",
         "hovertemplate": "Sampler Algo=MultinomialCPU<br>Number of Players=32<br>Batch Size (log2 scale)=%{x}<br>Runtime (ms/invocation)=%{y}<extra></extra>",
         "legendgroup": "MultinomialCPU",
         "marker": {
          "color": "#00cc96",
          "pattern": {
           "shape": ""
          }
         },
         "name": "MultinomialCPU",
         "offsetgroup": "MultinomialCPU",
         "orientation": "v",
         "showlegend": false,
         "textposition": "auto",
         "type": "bar",
         "x": [
          4,
          5,
          6,
          7,
          8,
          9,
          10
         ],
         "xaxis": "x8",
         "y": [
          0.18505334854125977,
          0.22014617919921875,
          0.24519205093383792,
          0.30622005462646484,
          0.5054664611816406,
          0.7966279983520508,
          1.3210725784301758
         ],
         "yaxis": "y8"
        },
        {
         "alignmentgroup": "True",
         "hovertemplate": "Sampler Algo=MultinomialCPU<br>Number of Players=64<br>Batch Size (log2 scale)=%{x}<br>Runtime (ms/invocation)=%{y}<extra></extra>",
         "legendgroup": "MultinomialCPU",
         "marker": {
          "color": "#00cc96",
          "pattern": {
           "shape": ""
          }
         },
         "name": "MultinomialCPU",
         "offsetgroup": "MultinomialCPU",
         "orientation": "v",
         "showlegend": false,
         "textposition": "auto",
         "type": "bar",
         "x": [
          4,
          5,
          6,
          7,
          8,
          9,
          10
         ],
         "xaxis": "x9",
         "y": [
          0.2001357078552246,
          0.2552056312561035,
          0.40817737579345703,
          0.6064057350158691,
          0.9315609931945801,
          1.8349552154541016,
          2.011442184448242
         ],
         "yaxis": "y9"
        },
        {
         "alignmentgroup": "True",
         "hovertemplate": "Sampler Algo=MultinomialCPU<br>Number of Players=128<br>Batch Size (log2 scale)=%{x}<br>Runtime (ms/invocation)=%{y}<extra></extra>",
         "legendgroup": "MultinomialCPU",
         "marker": {
          "color": "#00cc96",
          "pattern": {
           "shape": ""
          }
         },
         "name": "MultinomialCPU",
         "offsetgroup": "MultinomialCPU",
         "orientation": "v",
         "showlegend": false,
         "textposition": "auto",
         "type": "bar",
         "x": [
          4,
          5,
          6,
          7,
          8,
          9,
          10
         ],
         "xaxis": "x4",
         "y": [
          0.27625322341918945,
          0.4011082649230957,
          0.6964516639709473,
          1.119849681854248,
          2.0667552947998047,
          2.0831775665283203,
          2.532072067260742
         ],
         "yaxis": "y4"
        },
        {
         "alignmentgroup": "True",
         "hovertemplate": "Sampler Algo=MultinomialCPU<br>Number of Players=256<br>Batch Size (log2 scale)=%{x}<br>Runtime (ms/invocation)=%{y}<extra></extra>",
         "legendgroup": "MultinomialCPU",
         "marker": {
          "color": "#00cc96",
          "pattern": {
           "shape": ""
          }
         },
         "name": "MultinomialCPU",
         "offsetgroup": "MultinomialCPU",
         "orientation": "v",
         "showlegend": false,
         "textposition": "auto",
         "type": "bar",
         "x": [
          4,
          5,
          6,
          7,
          8,
          9,
          10
         ],
         "xaxis": "x5",
         "y": [
          0.48785924911499023,
          0.6810951232910156,
          1.2012290954589844,
          2.335660457611084,
          2.429993152618408,
          2.732539176940918,
          4.260678291320801
         ],
         "yaxis": "y5"
        },
        {
         "alignmentgroup": "True",
         "hovertemplate": "Sampler Algo=MultinomialCPU<br>Number of Players=512<br>Batch Size (log2 scale)=%{x}<br>Runtime (ms/invocation)=%{y}<extra></extra>",
         "legendgroup": "MultinomialCPU",
         "marker": {
          "color": "#00cc96",
          "pattern": {
           "shape": ""
          }
         },
         "name": "MultinomialCPU",
         "offsetgroup": "MultinomialCPU",
         "orientation": "v",
         "showlegend": false,
         "textposition": "auto",
         "type": "bar",
         "x": [
          4,
          5,
          6,
          7,
          8,
          9,
          10
         ],
         "xaxis": "x6",
         "y": [
          0.7864212989807129,
          1.412956714630127,
          2.5025534629821777,
          2.622096538543701,
          3.0994749069213867,
          4.52775239944458,
          7.5547003746032715
         ],
         "yaxis": "y6"
        },
        {
         "alignmentgroup": "True",
         "hovertemplate": "Sampler Algo=MultinomialCPU<br>Number of Players=1024<br>Batch Size (log2 scale)=%{x}<br>Runtime (ms/invocation)=%{y}<extra></extra>",
         "legendgroup": "MultinomialCPU",
         "marker": {
          "color": "#00cc96",
          "pattern": {
           "shape": ""
          }
         },
         "name": "MultinomialCPU",
         "offsetgroup": "MultinomialCPU",
         "orientation": "v",
         "showlegend": false,
         "textposition": "auto",
         "type": "bar",
         "x": [
          4,
          5,
          6,
          7,
          8,
          9,
          10
         ],
         "xaxis": "x",
         "y": [
          1.426241397857666,
          2.744448184967041,
          2.8877854347229004,
          3.2685470581054688,
          4.770634174346924,
          8.163301944732666,
          15.148212909698486
         ],
         "yaxis": "y"
        },
        {
         "alignmentgroup": "True",
         "hovertemplate": "Sampler Algo=ThreshCPU<br>Number of Players=16<br>Batch Size (log2 scale)=%{x}<br>Runtime (ms/invocation)=%{y}<extra></extra>",
         "legendgroup": "ThreshCPU",
         "marker": {
          "color": "#ab63fa",
          "pattern": {
           "shape": ""
          }
         },
         "name": "ThreshCPU",
         "offsetgroup": "ThreshCPU",
         "orientation": "v",
         "showlegend": true,
         "textposition": "auto",
         "type": "bar",
         "x": [
          4,
          5,
          6,
          7,
          8,
          9,
          10
         ],
         "xaxis": "x7",
         "y": [
          0.17008543014526367,
          0.16509056091308594,
          0.18530607223510742,
          0.19013166427612305,
          0.27564048767089844,
          0.3238677978515625,
          0.5113911628723145
         ],
         "yaxis": "y7"
        },
        {
         "alignmentgroup": "True",
         "hovertemplate": "Sampler Algo=ThreshCPU<br>Number of Players=32<br>Batch Size (log2 scale)=%{x}<br>Runtime (ms/invocation)=%{y}<extra></extra>",
         "legendgroup": "ThreshCPU",
         "marker": {
          "color": "#ab63fa",
          "pattern": {
           "shape": ""
          }
         },
         "name": "ThreshCPU",
         "offsetgroup": "ThreshCPU",
         "orientation": "v",
         "showlegend": false,
         "textposition": "auto",
         "type": "bar",
         "x": [
          4,
          5,
          6,
          7,
          8,
          9,
          10
         ],
         "xaxis": "x8",
         "y": [
          0.16823291778564453,
          0.1687169075012207,
          0.19673585891723633,
          0.2353501319885254,
          0.31052589416503906,
          0.4457426071166992,
          0.7214784622192383
         ],
         "yaxis": "y8"
        },
        {
         "alignmentgroup": "True",
         "hovertemplate": "Sampler Algo=ThreshCPU<br>Number of Players=64<br>Batch Size (log2 scale)=%{x}<br>Runtime (ms/invocation)=%{y}<extra></extra>",
         "legendgroup": "ThreshCPU",
         "marker": {
          "color": "#ab63fa",
          "pattern": {
           "shape": ""
          }
         },
         "name": "ThreshCPU",
         "offsetgroup": "ThreshCPU",
         "orientation": "v",
         "showlegend": false,
         "textposition": "auto",
         "type": "bar",
         "x": [
          4,
          5,
          6,
          7,
          8,
          9,
          10
         ],
         "xaxis": "x9",
         "y": [
          0.1754307746887207,
          0.19573688507080078,
          0.22564172744750977,
          0.29578447341918945,
          0.42661428451538086,
          0.6811189651489258,
          0.9175300598144531
         ],
         "yaxis": "y9"
        },
        {
         "alignmentgroup": "True",
         "hovertemplate": "Sampler Algo=ThreshCPU<br>Number of Players=128<br>Batch Size (log2 scale)=%{x}<br>Runtime (ms/invocation)=%{y}<extra></extra>",
         "legendgroup": "ThreshCPU",
         "marker": {
          "color": "#ab63fa",
          "pattern": {
           "shape": ""
          }
         },
         "name": "ThreshCPU",
         "offsetgroup": "ThreshCPU",
         "orientation": "v",
         "showlegend": false,
         "textposition": "auto",
         "type": "bar",
         "x": [
          4,
          5,
          6,
          7,
          8,
          9,
          10
         ],
         "xaxis": "x4",
         "y": [
          0.210113525390625,
          0.24035215377807617,
          0.33004283905029297,
          0.4301023483276367,
          0.7202506065368652,
          1.0105013847351074,
          1.728377342224121
         ],
         "yaxis": "y4"
        },
        {
         "alignmentgroup": "True",
         "hovertemplate": "Sampler Algo=ThreshCPU<br>Number of Players=256<br>Batch Size (log2 scale)=%{x}<br>Runtime (ms/invocation)=%{y}<extra></extra>",
         "legendgroup": "ThreshCPU",
         "marker": {
          "color": "#ab63fa",
          "pattern": {
           "shape": ""
          }
         },
         "name": "ThreshCPU",
         "offsetgroup": "ThreshCPU",
         "orientation": "v",
         "showlegend": false,
         "textposition": "auto",
         "type": "bar",
         "x": [
          4,
          5,
          6,
          7,
          8,
          9,
          10
         ],
         "xaxis": "x5",
         "y": [
          0.25604963302612305,
          0.3357124328613281,
          0.41051387786865234,
          0.7456064224243164,
          0.886223316192627,
          1.9089293479919434,
          3.426995277404785
         ],
         "yaxis": "y5"
        },
        {
         "alignmentgroup": "True",
         "hovertemplate": "Sampler Algo=ThreshCPU<br>Number of Players=512<br>Batch Size (log2 scale)=%{x}<br>Runtime (ms/invocation)=%{y}<extra></extra>",
         "legendgroup": "ThreshCPU",
         "marker": {
          "color": "#ab63fa",
          "pattern": {
           "shape": ""
          }
         },
         "name": "ThreshCPU",
         "offsetgroup": "ThreshCPU",
         "orientation": "v",
         "showlegend": false,
         "textposition": "auto",
         "type": "bar",
         "x": [
          4,
          5,
          6,
          7,
          8,
          9,
          10
         ],
         "xaxis": "x6",
         "y": [
          0.3201460838317871,
          0.4316568374633789,
          0.6509780883789062,
          0.9662747383117676,
          1.70792818069458,
          3.4752750396728516,
          6.470980644226074
         ],
         "yaxis": "y6"
        },
        {
         "alignmentgroup": "True",
         "hovertemplate": "Sampler Algo=ThreshCPU<br>Number of Players=1024<br>Batch Size (log2 scale)=%{x}<br>Runtime (ms/invocation)=%{y}<extra></extra>",
         "legendgroup": "ThreshCPU",
         "marker": {
          "color": "#ab63fa",
          "pattern": {
           "shape": ""
          }
         },
         "name": "ThreshCPU",
         "offsetgroup": "ThreshCPU",
         "orientation": "v",
         "showlegend": false,
         "textposition": "auto",
         "type": "bar",
         "x": [
          4,
          5,
          6,
          7,
          8,
          9,
          10
         ],
         "xaxis": "x",
         "y": [
          0.4704403877258301,
          0.6555485725402832,
          0.9259510040283203,
          1.7926478385925293,
          3.549830913543701,
          6.453700065612793,
          11.658210754394531
         ],
         "yaxis": "y"
        },
        {
         "alignmentgroup": "True",
         "hovertemplate": "Sampler Algo=NumpyPermuteCPU<br>Number of Players=16<br>Batch Size (log2 scale)=%{x}<br>Runtime (ms/invocation)=%{y}<extra></extra>",
         "legendgroup": "NumpyPermuteCPU",
         "marker": {
          "color": "#FFA15A",
          "pattern": {
           "shape": ""
          }
         },
         "name": "NumpyPermuteCPU",
         "offsetgroup": "NumpyPermuteCPU",
         "orientation": "v",
         "showlegend": true,
         "textposition": "auto",
         "type": "bar",
         "x": [
          4,
          5,
          6,
          7,
          8,
          9,
          10
         ],
         "xaxis": "x7",
         "y": [
          0.12520313262939453,
          0.13520479202270508,
          0.1361560821533203,
          0.15541315078735352,
          0.20029544830322266,
          0.27590036392211914,
          0.38730382919311523
         ],
         "yaxis": "y7"
        },
        {
         "alignmentgroup": "True",
         "hovertemplate": "Sampler Algo=NumpyPermuteCPU<br>Number of Players=32<br>Batch Size (log2 scale)=%{x}<br>Runtime (ms/invocation)=%{y}<extra></extra>",
         "legendgroup": "NumpyPermuteCPU",
         "marker": {
          "color": "#FFA15A",
          "pattern": {
           "shape": ""
          }
         },
         "name": "NumpyPermuteCPU",
         "offsetgroup": "NumpyPermuteCPU",
         "orientation": "v",
         "showlegend": false,
         "textposition": "auto",
         "type": "bar",
         "x": [
          4,
          5,
          6,
          7,
          8,
          9,
          10
         ],
         "xaxis": "x8",
         "y": [
          0.15183687210083008,
          0.14537334442138672,
          0.15530824661254883,
          0.18599271774291992,
          0.24042367935180664,
          0.34314870834350586,
          0.5781364440917969
         ],
         "yaxis": "y8"
        },
        {
         "alignmentgroup": "True",
         "hovertemplate": "Sampler Algo=NumpyPermuteCPU<br>Number of Players=64<br>Batch Size (log2 scale)=%{x}<br>Runtime (ms/invocation)=%{y}<extra></extra>",
         "legendgroup": "NumpyPermuteCPU",
         "marker": {
          "color": "#FFA15A",
          "pattern": {
           "shape": ""
          }
         },
         "name": "NumpyPermuteCPU",
         "offsetgroup": "NumpyPermuteCPU",
         "orientation": "v",
         "showlegend": false,
         "textposition": "auto",
         "type": "bar",
         "x": [
          4,
          5,
          6,
          7,
          8,
          9,
          10
         ],
         "xaxis": "x9",
         "y": [
          0.13652801513671875,
          0.1480388641357422,
          0.1874256134033203,
          0.23383855819702148,
          0.3554654121398926,
          0.5755615234375,
          1.0363173484802246
         ],
         "yaxis": "y9"
        },
        {
         "alignmentgroup": "True",
         "hovertemplate": "Sampler Algo=NumpyPermuteCPU<br>Number of Players=128<br>Batch Size (log2 scale)=%{x}<br>Runtime (ms/invocation)=%{y}<extra></extra>",
         "legendgroup": "NumpyPermuteCPU",
         "marker": {
          "color": "#FFA15A",
          "pattern": {
           "shape": ""
          }
         },
         "name": "NumpyPermuteCPU",
         "offsetgroup": "NumpyPermuteCPU",
         "orientation": "v",
         "showlegend": false,
         "textposition": "auto",
         "type": "bar",
         "x": [
          4,
          5,
          6,
          7,
          8,
          9,
          10
         ],
         "xaxis": "x4",
         "y": [
          0.16292095184326172,
          0.17819643020629883,
          0.23284196853637695,
          0.3424859046936035,
          0.5703353881835938,
          1.0169076919555664,
          2.026808261871338
         ],
         "yaxis": "y4"
        },
        {
         "alignmentgroup": "True",
         "hovertemplate": "Sampler Algo=NumpyPermuteCPU<br>Number of Players=256<br>Batch Size (log2 scale)=%{x}<br>Runtime (ms/invocation)=%{y}<extra></extra>",
         "legendgroup": "NumpyPermuteCPU",
         "marker": {
          "color": "#FFA15A",
          "pattern": {
           "shape": ""
          }
         },
         "name": "NumpyPermuteCPU",
         "offsetgroup": "NumpyPermuteCPU",
         "orientation": "v",
         "showlegend": false,
         "textposition": "auto",
         "type": "bar",
         "x": [
          4,
          5,
          6,
          7,
          8,
          9,
          10
         ],
         "xaxis": "x5",
         "y": [
          0.17612695693969727,
          0.24004697799682617,
          0.3451371192932129,
          0.625603199005127,
          1.053621768951416,
          2.077944278717041,
          4.111263751983643
         ],
         "yaxis": "y5"
        },
        {
         "alignmentgroup": "True",
         "hovertemplate": "Sampler Algo=NumpyPermuteCPU<br>Number of Players=512<br>Batch Size (log2 scale)=%{x}<br>Runtime (ms/invocation)=%{y}<extra></extra>",
         "legendgroup": "NumpyPermuteCPU",
         "marker": {
          "color": "#FFA15A",
          "pattern": {
           "shape": ""
          }
         },
         "name": "NumpyPermuteCPU",
         "offsetgroup": "NumpyPermuteCPU",
         "orientation": "v",
         "showlegend": false,
         "textposition": "auto",
         "type": "bar",
         "x": [
          4,
          5,
          6,
          7,
          8,
          9,
          10
         ],
         "xaxis": "x6",
         "y": [
          0.2253103256225586,
          0.36259889602661133,
          0.5855917930603027,
          1.0140490531921387,
          1.9272685050964355,
          4.085118770599365,
          8.640451431274414
         ],
         "yaxis": "y6"
        },
        {
         "alignmentgroup": "True",
         "hovertemplate": "Sampler Algo=NumpyPermuteCPU<br>Number of Players=1024<br>Batch Size (log2 scale)=%{x}<br>Runtime (ms/invocation)=%{y}<extra></extra>",
         "legendgroup": "NumpyPermuteCPU",
         "marker": {
          "color": "#FFA15A",
          "pattern": {
           "shape": ""
          }
         },
         "name": "NumpyPermuteCPU",
         "offsetgroup": "NumpyPermuteCPU",
         "orientation": "v",
         "showlegend": false,
         "textposition": "auto",
         "type": "bar",
         "x": [
          4,
          5,
          6,
          7,
          8,
          9,
          10
         ],
         "xaxis": "x",
         "y": [
          0.35031795501708984,
          0.6152629852294922,
          1.0495686531066895,
          1.9012904167175293,
          4.254269599914551,
          8.272545337677002,
          16.818408966064453
         ],
         "yaxis": "y"
        },
        {
         "alignmentgroup": "True",
         "hovertemplate": "Sampler Algo=ArgSortGPU<br>Number of Players=16<br>Batch Size (log2 scale)=%{x}<br>Runtime (ms/invocation)=%{y}<extra></extra>",
         "legendgroup": "ArgSortGPU",
         "marker": {
          "color": "#19d3f3",
          "pattern": {
           "shape": ""
          }
         },
         "name": "ArgSortGPU",
         "offsetgroup": "ArgSortGPU",
         "orientation": "v",
         "showlegend": true,
         "textposition": "auto",
         "type": "bar",
         "x": [
          4,
          5,
          6,
          7,
          8,
          9,
          10
         ],
         "xaxis": "x7",
         "y": [
          1.601247787475586,
          0.5747103691101074,
          0.3051161766052246,
          0.34009218215942383,
          0.3403329849243164,
          0.3314208984375,
          0.34264087677001953
         ],
         "yaxis": "y7"
        },
        {
         "alignmentgroup": "True",
         "hovertemplate": "Sampler Algo=ArgSortGPU<br>Number of Players=32<br>Batch Size (log2 scale)=%{x}<br>Runtime (ms/invocation)=%{y}<extra></extra>",
         "legendgroup": "ArgSortGPU",
         "marker": {
          "color": "#19d3f3",
          "pattern": {
           "shape": ""
          }
         },
         "name": "ArgSortGPU",
         "offsetgroup": "ArgSortGPU",
         "orientation": "v",
         "showlegend": false,
         "textposition": "auto",
         "type": "bar",
         "x": [
          4,
          5,
          6,
          7,
          8,
          9,
          10
         ],
         "xaxis": "x8",
         "y": [
          0.3130793571472168,
          0.3178286552429199,
          0.3134465217590332,
          0.3110814094543457,
          0.33214330673217773,
          0.33664464950561523,
          0.3452420234680176
         ],
         "yaxis": "y8"
        },
        {
         "alignmentgroup": "True",
         "hovertemplate": "Sampler Algo=ArgSortGPU<br>Number of Players=64<br>Batch Size (log2 scale)=%{x}<br>Runtime (ms/invocation)=%{y}<extra></extra>",
         "legendgroup": "ArgSortGPU",
         "marker": {
          "color": "#19d3f3",
          "pattern": {
           "shape": ""
          }
         },
         "name": "ArgSortGPU",
         "offsetgroup": "ArgSortGPU",
         "orientation": "v",
         "showlegend": false,
         "textposition": "auto",
         "type": "bar",
         "x": [
          4,
          5,
          6,
          7,
          8,
          9,
          10
         ],
         "xaxis": "x9",
         "y": [
          0.3105807304382324,
          0.3143882751464844,
          0.3110527992248535,
          0.31009912490844727,
          0.3275179862976074,
          0.34819841384887695,
          0.3755497932434082
         ],
         "yaxis": "y9"
        },
        {
         "alignmentgroup": "True",
         "hovertemplate": "Sampler Algo=ArgSortGPU<br>Number of Players=128<br>Batch Size (log2 scale)=%{x}<br>Runtime (ms/invocation)=%{y}<extra></extra>",
         "legendgroup": "ArgSortGPU",
         "marker": {
          "color": "#19d3f3",
          "pattern": {
           "shape": ""
          }
         },
         "name": "ArgSortGPU",
         "offsetgroup": "ArgSortGPU",
         "orientation": "v",
         "showlegend": false,
         "textposition": "auto",
         "type": "bar",
         "x": [
          4,
          5,
          6,
          7,
          8,
          9,
          10
         ],
         "xaxis": "x4",
         "y": [
          0.3302788734436035,
          0.3402137756347656,
          0.3104281425476074,
          0.35903453826904297,
          0.3636026382446289,
          0.3504371643066406,
          0.3903961181640625
         ],
         "yaxis": "y4"
        },
        {
         "alignmentgroup": "True",
         "hovertemplate": "Sampler Algo=ArgSortGPU<br>Number of Players=256<br>Batch Size (log2 scale)=%{x}<br>Runtime (ms/invocation)=%{y}<extra></extra>",
         "legendgroup": "ArgSortGPU",
         "marker": {
          "color": "#19d3f3",
          "pattern": {
           "shape": ""
          }
         },
         "name": "ArgSortGPU",
         "offsetgroup": "ArgSortGPU",
         "orientation": "v",
         "showlegend": false,
         "textposition": "auto",
         "type": "bar",
         "x": [
          4,
          5,
          6,
          7,
          8,
          9,
          10
         ],
         "xaxis": "x5",
         "y": [
          0.35027027130126953,
          0.34032106399536133,
          0.36556482315063477,
          0.31557559967041016,
          0.3255271911621094,
          0.3833603858947754,
          0.431215763092041
         ],
         "yaxis": "y5"
        },
        {
         "alignmentgroup": "True",
         "hovertemplate": "Sampler Algo=ArgSortGPU<br>Number of Players=512<br>Batch Size (log2 scale)=%{x}<br>Runtime (ms/invocation)=%{y}<extra></extra>",
         "legendgroup": "ArgSortGPU",
         "marker": {
          "color": "#19d3f3",
          "pattern": {
           "shape": ""
          }
         },
         "name": "ArgSortGPU",
         "offsetgroup": "ArgSortGPU",
         "orientation": "v",
         "showlegend": false,
         "textposition": "auto",
         "type": "bar",
         "x": [
          4,
          5,
          6,
          7,
          8,
          9,
          10
         ],
         "xaxis": "x6",
         "y": [
          0.34174680709838867,
          0.3053617477416992,
          0.37631750106811523,
          0.36206722259521484,
          0.4374074935913086,
          0.36498308181762695,
          0.38025379180908203
         ],
         "yaxis": "y6"
        },
        {
         "alignmentgroup": "True",
         "hovertemplate": "Sampler Algo=ArgSortGPU<br>Number of Players=1024<br>Batch Size (log2 scale)=%{x}<br>Runtime (ms/invocation)=%{y}<extra></extra>",
         "legendgroup": "ArgSortGPU",
         "marker": {
          "color": "#19d3f3",
          "pattern": {
           "shape": ""
          }
         },
         "name": "ArgSortGPU",
         "offsetgroup": "ArgSortGPU",
         "orientation": "v",
         "showlegend": false,
         "textposition": "auto",
         "type": "bar",
         "x": [
          4,
          5,
          6,
          7,
          8,
          9,
          10
         ],
         "xaxis": "x",
         "y": [
          0.3253459930419922,
          0.3502058982849121,
          0.32243967056274414,
          0.35599231719970703,
          0.35552501678466797,
          0.4299306869506836,
          0.42058229446411133
         ],
         "yaxis": "y"
        },
        {
         "alignmentgroup": "True",
         "hovertemplate": "Sampler Algo=MultinomialGPU<br>Number of Players=16<br>Batch Size (log2 scale)=%{x}<br>Runtime (ms/invocation)=%{y}<extra></extra>",
         "legendgroup": "MultinomialGPU",
         "marker": {
          "color": "#FF6692",
          "pattern": {
           "shape": ""
          }
         },
         "name": "MultinomialGPU",
         "offsetgroup": "MultinomialGPU",
         "orientation": "v",
         "showlegend": true,
         "textposition": "auto",
         "type": "bar",
         "x": [
          4,
          5,
          6,
          7,
          8,
          9,
          10
         ],
         "xaxis": "x7",
         "y": [
          1.3469505310058594,
          0.566093921661377,
          0.5576443672180176,
          0.5818939208984375,
          0.5755305290222168,
          0.5854892730712891,
          0.6402683258056641
         ],
         "yaxis": "y7"
        },
        {
         "alignmentgroup": "True",
         "hovertemplate": "Sampler Algo=MultinomialGPU<br>Number of Players=32<br>Batch Size (log2 scale)=%{x}<br>Runtime (ms/invocation)=%{y}<extra></extra>",
         "legendgroup": "MultinomialGPU",
         "marker": {
          "color": "#FF6692",
          "pattern": {
           "shape": ""
          }
         },
         "name": "MultinomialGPU",
         "offsetgroup": "MultinomialGPU",
         "orientation": "v",
         "showlegend": false,
         "textposition": "auto",
         "type": "bar",
         "x": [
          4,
          5,
          6,
          7,
          8,
          9,
          10
         ],
         "xaxis": "x8",
         "y": [
          0.6451058387756348,
          0.5652117729187012,
          0.7177114486694336,
          0.5853056907653809,
          0.6154751777648926,
          0.5859708786010742,
          0.5904269218444824
         ],
         "yaxis": "y8"
        },
        {
         "alignmentgroup": "True",
         "hovertemplate": "Sampler Algo=MultinomialGPU<br>Number of Players=64<br>Batch Size (log2 scale)=%{x}<br>Runtime (ms/invocation)=%{y}<extra></extra>",
         "legendgroup": "MultinomialGPU",
         "marker": {
          "color": "#FF6692",
          "pattern": {
           "shape": ""
          }
         },
         "name": "MultinomialGPU",
         "offsetgroup": "MultinomialGPU",
         "orientation": "v",
         "showlegend": false,
         "textposition": "auto",
         "type": "bar",
         "x": [
          4,
          5,
          6,
          7,
          8,
          9,
          10
         ],
         "xaxis": "x9",
         "y": [
          0.5153894424438477,
          0.576784610748291,
          0.6004595756530762,
          0.6856155395507812,
          0.6733608245849609,
          0.5919718742370605,
          0.6279873847961426
         ],
         "yaxis": "y9"
        },
        {
         "alignmentgroup": "True",
         "hovertemplate": "Sampler Algo=MultinomialGPU<br>Number of Players=128<br>Batch Size (log2 scale)=%{x}<br>Runtime (ms/invocation)=%{y}<extra></extra>",
         "legendgroup": "MultinomialGPU",
         "marker": {
          "color": "#FF6692",
          "pattern": {
           "shape": ""
          }
         },
         "name": "MultinomialGPU",
         "offsetgroup": "MultinomialGPU",
         "orientation": "v",
         "showlegend": false,
         "textposition": "auto",
         "type": "bar",
         "x": [
          4,
          5,
          6,
          7,
          8,
          9,
          10
         ],
         "xaxis": "x4",
         "y": [
          0.5874085426330566,
          0.6317281723022461,
          0.5618572235107422,
          0.5905365943908691,
          0.6905937194824219,
          0.6552338600158691,
          0.7467484474182129
         ],
         "yaxis": "y4"
        },
        {
         "alignmentgroup": "True",
         "hovertemplate": "Sampler Algo=MultinomialGPU<br>Number of Players=256<br>Batch Size (log2 scale)=%{x}<br>Runtime (ms/invocation)=%{y}<extra></extra>",
         "legendgroup": "MultinomialGPU",
         "marker": {
          "color": "#FF6692",
          "pattern": {
           "shape": ""
          }
         },
         "name": "MultinomialGPU",
         "offsetgroup": "MultinomialGPU",
         "orientation": "v",
         "showlegend": false,
         "textposition": "auto",
         "type": "bar",
         "x": [
          4,
          5,
          6,
          7,
          8,
          9,
          10
         ],
         "xaxis": "x5",
         "y": [
          0.588383674621582,
          0.6007266044616699,
          0.5706191062927246,
          0.5851602554321289,
          0.643007755279541,
          0.7465982437133789,
          1.0573506355285645
         ],
         "yaxis": "y5"
        },
        {
         "alignmentgroup": "True",
         "hovertemplate": "Sampler Algo=MultinomialGPU<br>Number of Players=512<br>Batch Size (log2 scale)=%{x}<br>Runtime (ms/invocation)=%{y}<extra></extra>",
         "legendgroup": "MultinomialGPU",
         "marker": {
          "color": "#FF6692",
          "pattern": {
           "shape": ""
          }
         },
         "name": "MultinomialGPU",
         "offsetgroup": "MultinomialGPU",
         "orientation": "v",
         "showlegend": false,
         "textposition": "auto",
         "type": "bar",
         "x": [
          4,
          5,
          6,
          7,
          8,
          9,
          10
         ],
         "xaxis": "x6",
         "y": [
          0.5298542976379395,
          0.531458854675293,
          0.5654549598693848,
          0.6403374671936035,
          0.7260370254516602,
          1.1003851890563965,
          1.4238309860229492
         ],
         "yaxis": "y6"
        },
        {
         "alignmentgroup": "True",
         "hovertemplate": "Sampler Algo=MultinomialGPU<br>Number of Players=1024<br>Batch Size (log2 scale)=%{x}<br>Runtime (ms/invocation)=%{y}<extra></extra>",
         "legendgroup": "MultinomialGPU",
         "marker": {
          "color": "#FF6692",
          "pattern": {
           "shape": ""
          }
         },
         "name": "MultinomialGPU",
         "offsetgroup": "MultinomialGPU",
         "orientation": "v",
         "showlegend": false,
         "textposition": "auto",
         "type": "bar",
         "x": [
          4,
          5,
          6,
          7,
          8,
          9,
          10
         ],
         "xaxis": "x",
         "y": [
          0.958552360534668,
          0.6706809997558594,
          0.7019925117492676,
          0.7519721984863281,
          1.1214876174926758,
          1.3145756721496582,
          1.9832730293273928
         ],
         "yaxis": "y"
        },
        {
         "alignmentgroup": "True",
         "hovertemplate": "Sampler Algo=ThreshGPU<br>Number of Players=16<br>Batch Size (log2 scale)=%{x}<br>Runtime (ms/invocation)=%{y}<extra></extra>",
         "legendgroup": "ThreshGPU",
         "marker": {
          "color": "#B6E880",
          "pattern": {
           "shape": ""
          }
         },
         "name": "ThreshGPU",
         "offsetgroup": "ThreshGPU",
         "orientation": "v",
         "showlegend": true,
         "textposition": "auto",
         "type": "bar",
         "x": [
          4,
          5,
          6,
          7,
          8,
          9,
          10
         ],
         "xaxis": "x7",
         "y": [
          0.6809473037719727,
          0.5653715133666992,
          0.5692338943481445,
          0.5362415313720703,
          0.5575132369995117,
          0.6034135818481445,
          0.6494283676147461
         ],
         "yaxis": "y7"
        },
        {
         "alignmentgroup": "True",
         "hovertemplate": "Sampler Algo=ThreshGPU<br>Number of Players=32<br>Batch Size (log2 scale)=%{x}<br>Runtime (ms/invocation)=%{y}<extra></extra>",
         "legendgroup": "ThreshGPU",
         "marker": {
          "color": "#B6E880",
          "pattern": {
           "shape": ""
          }
         },
         "name": "ThreshGPU",
         "offsetgroup": "ThreshGPU",
         "orientation": "v",
         "showlegend": false,
         "textposition": "auto",
         "type": "bar",
         "x": [
          4,
          5,
          6,
          7,
          8,
          9,
          10
         ],
         "xaxis": "x8",
         "y": [
          0.6307721138000488,
          0.5230331420898438,
          0.5581021308898926,
          0.559999942779541,
          0.5768060684204102,
          0.6305980682373047,
          0.7410597801208496
         ],
         "yaxis": "y8"
        },
        {
         "alignmentgroup": "True",
         "hovertemplate": "Sampler Algo=ThreshGPU<br>Number of Players=64<br>Batch Size (log2 scale)=%{x}<br>Runtime (ms/invocation)=%{y}<extra></extra>",
         "legendgroup": "ThreshGPU",
         "marker": {
          "color": "#B6E880",
          "pattern": {
           "shape": ""
          }
         },
         "name": "ThreshGPU",
         "offsetgroup": "ThreshGPU",
         "orientation": "v",
         "showlegend": false,
         "textposition": "auto",
         "type": "bar",
         "x": [
          4,
          5,
          6,
          7,
          8,
          9,
          10
         ],
         "xaxis": "x9",
         "y": [
          0.5288386344909668,
          0.5412697792053223,
          0.558161735534668,
          0.6723809242248535,
          0.6949996948242188,
          0.770108699798584,
          1.057753562927246
         ],
         "yaxis": "y9"
        },
        {
         "alignmentgroup": "True",
         "hovertemplate": "Sampler Algo=ThreshGPU<br>Number of Players=128<br>Batch Size (log2 scale)=%{x}<br>Runtime (ms/invocation)=%{y}<extra></extra>",
         "legendgroup": "ThreshGPU",
         "marker": {
          "color": "#B6E880",
          "pattern": {
           "shape": ""
          }
         },
         "name": "ThreshGPU",
         "offsetgroup": "ThreshGPU",
         "orientation": "v",
         "showlegend": false,
         "textposition": "auto",
         "type": "bar",
         "x": [
          4,
          5,
          6,
          7,
          8,
          9,
          10
         ],
         "xaxis": "x4",
         "y": [
          0.7315921783447266,
          0.6920266151428223,
          0.6053948402404785,
          0.6207895278930664,
          0.721132755279541,
          0.9768795967102051,
          1.638479232788086
         ],
         "yaxis": "y4"
        },
        {
         "alignmentgroup": "True",
         "hovertemplate": "Sampler Algo=ThreshGPU<br>Number of Players=256<br>Batch Size (log2 scale)=%{x}<br>Runtime (ms/invocation)=%{y}<extra></extra>",
         "legendgroup": "ThreshGPU",
         "marker": {
          "color": "#B6E880",
          "pattern": {
           "shape": ""
          }
         },
         "name": "ThreshGPU",
         "offsetgroup": "ThreshGPU",
         "orientation": "v",
         "showlegend": false,
         "textposition": "auto",
         "type": "bar",
         "x": [
          4,
          5,
          6,
          7,
          8,
          9,
          10
         ],
         "xaxis": "x5",
         "y": [
          0.6010293960571289,
          0.6154823303222656,
          0.7009339332580566,
          0.7849860191345215,
          1.2258553504943848,
          1.7095541954040527,
          3.0078482627868652
         ],
         "yaxis": "y5"
        },
        {
         "alignmentgroup": "True",
         "hovertemplate": "Sampler Algo=ThreshGPU<br>Number of Players=512<br>Batch Size (log2 scale)=%{x}<br>Runtime (ms/invocation)=%{y}<extra></extra>",
         "legendgroup": "ThreshGPU",
         "marker": {
          "color": "#B6E880",
          "pattern": {
           "shape": ""
          }
         },
         "name": "ThreshGPU",
         "offsetgroup": "ThreshGPU",
         "orientation": "v",
         "showlegend": false,
         "textposition": "auto",
         "type": "bar",
         "x": [
          4,
          5,
          6,
          7,
          8,
          9,
          10
         ],
         "xaxis": "x6",
         "y": [
          0.660400390625,
          0.7679581642150879,
          1.0094785690307617,
          1.2811803817749023,
          1.682267189025879,
          2.9876208305358887,
          5.289969444274902
         ],
         "yaxis": "y6"
        },
        {
         "alignmentgroup": "True",
         "hovertemplate": "Sampler Algo=ThreshGPU<br>Number of Players=1024<br>Batch Size (log2 scale)=%{x}<br>Runtime (ms/invocation)=%{y}<extra></extra>",
         "legendgroup": "ThreshGPU",
         "marker": {
          "color": "#B6E880",
          "pattern": {
           "shape": ""
          }
         },
         "name": "ThreshGPU",
         "offsetgroup": "ThreshGPU",
         "orientation": "v",
         "showlegend": false,
         "textposition": "auto",
         "type": "bar",
         "x": [
          4,
          5,
          6,
          7,
          8,
          9,
          10
         ],
         "xaxis": "x",
         "y": [
          0.9635424613952637,
          0.9779286384582518,
          1.1712360382080078,
          1.720287799835205,
          3.1544065475463867,
          5.369601249694824,
          9.543745517730713
         ],
         "yaxis": "y"
        }
       ],
       "layout": {
        "annotations": [
         {
          "font": {},
          "showarrow": false,
          "text": "Number of Players=1024",
          "x": 0.15999999999999998,
          "xanchor": "center",
          "xref": "paper",
          "y": 0.2866666666666666,
          "yanchor": "bottom",
          "yref": "paper"
         },
         {
          "font": {},
          "showarrow": false,
          "text": "Number of Players=128",
          "x": 0.15999999999999998,
          "xanchor": "center",
          "xref": "paper",
          "y": 0.6433333333333333,
          "yanchor": "bottom",
          "yref": "paper"
         },
         {
          "font": {},
          "showarrow": false,
          "text": "Number of Players=256",
          "x": 0.49999999999999994,
          "xanchor": "center",
          "xref": "paper",
          "y": 0.6433333333333333,
          "yanchor": "bottom",
          "yref": "paper"
         },
         {
          "font": {},
          "showarrow": false,
          "text": "Number of Players=512",
          "x": 0.8399999999999999,
          "xanchor": "center",
          "xref": "paper",
          "y": 0.6433333333333333,
          "yanchor": "bottom",
          "yref": "paper"
         },
         {
          "font": {},
          "showarrow": false,
          "text": "Number of Players=16",
          "x": 0.15999999999999998,
          "xanchor": "center",
          "xref": "paper",
          "y": 0.9999999999999999,
          "yanchor": "bottom",
          "yref": "paper"
         },
         {
          "font": {},
          "showarrow": false,
          "text": "Number of Players=32",
          "x": 0.49999999999999994,
          "xanchor": "center",
          "xref": "paper",
          "y": 0.9999999999999999,
          "yanchor": "bottom",
          "yref": "paper"
         },
         {
          "font": {},
          "showarrow": false,
          "text": "Number of Players=64",
          "x": 0.8399999999999999,
          "xanchor": "center",
          "xref": "paper",
          "y": 0.9999999999999999,
          "yanchor": "bottom",
          "yref": "paper"
         }
        ],
        "barmode": "group",
        "height": 800,
        "legend": {
         "title": {
          "text": "Sampler Algo"
         },
         "tracegroupgap": 0
        },
        "margin": {
         "t": 60
        },
        "template": {
         "data": {
          "bar": [
           {
            "error_x": {
             "color": "#2a3f5f"
            },
            "error_y": {
             "color": "#2a3f5f"
            },
            "marker": {
             "line": {
              "color": "#E5ECF6",
              "width": 0.5
             },
             "pattern": {
              "fillmode": "overlay",
              "size": 10,
              "solidity": 0.2
             }
            },
            "type": "bar"
           }
          ],
          "barpolar": [
           {
            "marker": {
             "line": {
              "color": "#E5ECF6",
              "width": 0.5
             },
             "pattern": {
              "fillmode": "overlay",
              "size": 10,
              "solidity": 0.2
             }
            },
            "type": "barpolar"
           }
          ],
          "carpet": [
           {
            "aaxis": {
             "endlinecolor": "#2a3f5f",
             "gridcolor": "white",
             "linecolor": "white",
             "minorgridcolor": "white",
             "startlinecolor": "#2a3f5f"
            },
            "baxis": {
             "endlinecolor": "#2a3f5f",
             "gridcolor": "white",
             "linecolor": "white",
             "minorgridcolor": "white",
             "startlinecolor": "#2a3f5f"
            },
            "type": "carpet"
           }
          ],
          "choropleth": [
           {
            "colorbar": {
             "outlinewidth": 0,
             "ticks": ""
            },
            "type": "choropleth"
           }
          ],
          "contour": [
           {
            "colorbar": {
             "outlinewidth": 0,
             "ticks": ""
            },
            "colorscale": [
             [
              0,
              "#0d0887"
             ],
             [
              0.1111111111111111,
              "#46039f"
             ],
             [
              0.2222222222222222,
              "#7201a8"
             ],
             [
              0.3333333333333333,
              "#9c179e"
             ],
             [
              0.4444444444444444,
              "#bd3786"
             ],
             [
              0.5555555555555556,
              "#d8576b"
             ],
             [
              0.6666666666666666,
              "#ed7953"
             ],
             [
              0.7777777777777778,
              "#fb9f3a"
             ],
             [
              0.8888888888888888,
              "#fdca26"
             ],
             [
              1,
              "#f0f921"
             ]
            ],
            "type": "contour"
           }
          ],
          "contourcarpet": [
           {
            "colorbar": {
             "outlinewidth": 0,
             "ticks": ""
            },
            "type": "contourcarpet"
           }
          ],
          "heatmap": [
           {
            "colorbar": {
             "outlinewidth": 0,
             "ticks": ""
            },
            "colorscale": [
             [
              0,
              "#0d0887"
             ],
             [
              0.1111111111111111,
              "#46039f"
             ],
             [
              0.2222222222222222,
              "#7201a8"
             ],
             [
              0.3333333333333333,
              "#9c179e"
             ],
             [
              0.4444444444444444,
              "#bd3786"
             ],
             [
              0.5555555555555556,
              "#d8576b"
             ],
             [
              0.6666666666666666,
              "#ed7953"
             ],
             [
              0.7777777777777778,
              "#fb9f3a"
             ],
             [
              0.8888888888888888,
              "#fdca26"
             ],
             [
              1,
              "#f0f921"
             ]
            ],
            "type": "heatmap"
           }
          ],
          "heatmapgl": [
           {
            "colorbar": {
             "outlinewidth": 0,
             "ticks": ""
            },
            "colorscale": [
             [
              0,
              "#0d0887"
             ],
             [
              0.1111111111111111,
              "#46039f"
             ],
             [
              0.2222222222222222,
              "#7201a8"
             ],
             [
              0.3333333333333333,
              "#9c179e"
             ],
             [
              0.4444444444444444,
              "#bd3786"
             ],
             [
              0.5555555555555556,
              "#d8576b"
             ],
             [
              0.6666666666666666,
              "#ed7953"
             ],
             [
              0.7777777777777778,
              "#fb9f3a"
             ],
             [
              0.8888888888888888,
              "#fdca26"
             ],
             [
              1,
              "#f0f921"
             ]
            ],
            "type": "heatmapgl"
           }
          ],
          "histogram": [
           {
            "marker": {
             "pattern": {
              "fillmode": "overlay",
              "size": 10,
              "solidity": 0.2
             }
            },
            "type": "histogram"
           }
          ],
          "histogram2d": [
           {
            "colorbar": {
             "outlinewidth": 0,
             "ticks": ""
            },
            "colorscale": [
             [
              0,
              "#0d0887"
             ],
             [
              0.1111111111111111,
              "#46039f"
             ],
             [
              0.2222222222222222,
              "#7201a8"
             ],
             [
              0.3333333333333333,
              "#9c179e"
             ],
             [
              0.4444444444444444,
              "#bd3786"
             ],
             [
              0.5555555555555556,
              "#d8576b"
             ],
             [
              0.6666666666666666,
              "#ed7953"
             ],
             [
              0.7777777777777778,
              "#fb9f3a"
             ],
             [
              0.8888888888888888,
              "#fdca26"
             ],
             [
              1,
              "#f0f921"
             ]
            ],
            "type": "histogram2d"
           }
          ],
          "histogram2dcontour": [
           {
            "colorbar": {
             "outlinewidth": 0,
             "ticks": ""
            },
            "colorscale": [
             [
              0,
              "#0d0887"
             ],
             [
              0.1111111111111111,
              "#46039f"
             ],
             [
              0.2222222222222222,
              "#7201a8"
             ],
             [
              0.3333333333333333,
              "#9c179e"
             ],
             [
              0.4444444444444444,
              "#bd3786"
             ],
             [
              0.5555555555555556,
              "#d8576b"
             ],
             [
              0.6666666666666666,
              "#ed7953"
             ],
             [
              0.7777777777777778,
              "#fb9f3a"
             ],
             [
              0.8888888888888888,
              "#fdca26"
             ],
             [
              1,
              "#f0f921"
             ]
            ],
            "type": "histogram2dcontour"
           }
          ],
          "mesh3d": [
           {
            "colorbar": {
             "outlinewidth": 0,
             "ticks": ""
            },
            "type": "mesh3d"
           }
          ],
          "parcoords": [
           {
            "line": {
             "colorbar": {
              "outlinewidth": 0,
              "ticks": ""
             }
            },
            "type": "parcoords"
           }
          ],
          "pie": [
           {
            "automargin": true,
            "type": "pie"
           }
          ],
          "scatter": [
           {
            "fillpattern": {
             "fillmode": "overlay",
             "size": 10,
             "solidity": 0.2
            },
            "type": "scatter"
           }
          ],
          "scatter3d": [
           {
            "line": {
             "colorbar": {
              "outlinewidth": 0,
              "ticks": ""
             }
            },
            "marker": {
             "colorbar": {
              "outlinewidth": 0,
              "ticks": ""
             }
            },
            "type": "scatter3d"
           }
          ],
          "scattercarpet": [
           {
            "marker": {
             "colorbar": {
              "outlinewidth": 0,
              "ticks": ""
             }
            },
            "type": "scattercarpet"
           }
          ],
          "scattergeo": [
           {
            "marker": {
             "colorbar": {
              "outlinewidth": 0,
              "ticks": ""
             }
            },
            "type": "scattergeo"
           }
          ],
          "scattergl": [
           {
            "marker": {
             "colorbar": {
              "outlinewidth": 0,
              "ticks": ""
             }
            },
            "type": "scattergl"
           }
          ],
          "scattermapbox": [
           {
            "marker": {
             "colorbar": {
              "outlinewidth": 0,
              "ticks": ""
             }
            },
            "type": "scattermapbox"
           }
          ],
          "scatterpolar": [
           {
            "marker": {
             "colorbar": {
              "outlinewidth": 0,
              "ticks": ""
             }
            },
            "type": "scatterpolar"
           }
          ],
          "scatterpolargl": [
           {
            "marker": {
             "colorbar": {
              "outlinewidth": 0,
              "ticks": ""
             }
            },
            "type": "scatterpolargl"
           }
          ],
          "scatterternary": [
           {
            "marker": {
             "colorbar": {
              "outlinewidth": 0,
              "ticks": ""
             }
            },
            "type": "scatterternary"
           }
          ],
          "surface": [
           {
            "colorbar": {
             "outlinewidth": 0,
             "ticks": ""
            },
            "colorscale": [
             [
              0,
              "#0d0887"
             ],
             [
              0.1111111111111111,
              "#46039f"
             ],
             [
              0.2222222222222222,
              "#7201a8"
             ],
             [
              0.3333333333333333,
              "#9c179e"
             ],
             [
              0.4444444444444444,
              "#bd3786"
             ],
             [
              0.5555555555555556,
              "#d8576b"
             ],
             [
              0.6666666666666666,
              "#ed7953"
             ],
             [
              0.7777777777777778,
              "#fb9f3a"
             ],
             [
              0.8888888888888888,
              "#fdca26"
             ],
             [
              1,
              "#f0f921"
             ]
            ],
            "type": "surface"
           }
          ],
          "table": [
           {
            "cells": {
             "fill": {
              "color": "#EBF0F8"
             },
             "line": {
              "color": "white"
             }
            },
            "header": {
             "fill": {
              "color": "#C8D4E3"
             },
             "line": {
              "color": "white"
             }
            },
            "type": "table"
           }
          ]
         },
         "layout": {
          "annotationdefaults": {
           "arrowcolor": "#2a3f5f",
           "arrowhead": 0,
           "arrowwidth": 1
          },
          "autotypenumbers": "strict",
          "coloraxis": {
           "colorbar": {
            "outlinewidth": 0,
            "ticks": ""
           }
          },
          "colorscale": {
           "diverging": [
            [
             0,
             "#8e0152"
            ],
            [
             0.1,
             "#c51b7d"
            ],
            [
             0.2,
             "#de77ae"
            ],
            [
             0.3,
             "#f1b6da"
            ],
            [
             0.4,
             "#fde0ef"
            ],
            [
             0.5,
             "#f7f7f7"
            ],
            [
             0.6,
             "#e6f5d0"
            ],
            [
             0.7,
             "#b8e186"
            ],
            [
             0.8,
             "#7fbc41"
            ],
            [
             0.9,
             "#4d9221"
            ],
            [
             1,
             "#276419"
            ]
           ],
           "sequential": [
            [
             0,
             "#0d0887"
            ],
            [
             0.1111111111111111,
             "#46039f"
            ],
            [
             0.2222222222222222,
             "#7201a8"
            ],
            [
             0.3333333333333333,
             "#9c179e"
            ],
            [
             0.4444444444444444,
             "#bd3786"
            ],
            [
             0.5555555555555556,
             "#d8576b"
            ],
            [
             0.6666666666666666,
             "#ed7953"
            ],
            [
             0.7777777777777778,
             "#fb9f3a"
            ],
            [
             0.8888888888888888,
             "#fdca26"
            ],
            [
             1,
             "#f0f921"
            ]
           ],
           "sequentialminus": [
            [
             0,
             "#0d0887"
            ],
            [
             0.1111111111111111,
             "#46039f"
            ],
            [
             0.2222222222222222,
             "#7201a8"
            ],
            [
             0.3333333333333333,
             "#9c179e"
            ],
            [
             0.4444444444444444,
             "#bd3786"
            ],
            [
             0.5555555555555556,
             "#d8576b"
            ],
            [
             0.6666666666666666,
             "#ed7953"
            ],
            [
             0.7777777777777778,
             "#fb9f3a"
            ],
            [
             0.8888888888888888,
             "#fdca26"
            ],
            [
             1,
             "#f0f921"
            ]
           ]
          },
          "colorway": [
           "#636efa",
           "#EF553B",
           "#00cc96",
           "#ab63fa",
           "#FFA15A",
           "#19d3f3",
           "#FF6692",
           "#B6E880",
           "#FF97FF",
           "#FECB52"
          ],
          "font": {
           "color": "#2a3f5f"
          },
          "geo": {
           "bgcolor": "white",
           "lakecolor": "white",
           "landcolor": "#E5ECF6",
           "showlakes": true,
           "showland": true,
           "subunitcolor": "white"
          },
          "hoverlabel": {
           "align": "left"
          },
          "hovermode": "closest",
          "mapbox": {
           "style": "light"
          },
          "paper_bgcolor": "white",
          "plot_bgcolor": "#E5ECF6",
          "polar": {
           "angularaxis": {
            "gridcolor": "white",
            "linecolor": "white",
            "ticks": ""
           },
           "bgcolor": "#E5ECF6",
           "radialaxis": {
            "gridcolor": "white",
            "linecolor": "white",
            "ticks": ""
           }
          },
          "scene": {
           "xaxis": {
            "backgroundcolor": "#E5ECF6",
            "gridcolor": "white",
            "gridwidth": 2,
            "linecolor": "white",
            "showbackground": true,
            "ticks": "",
            "zerolinecolor": "white"
           },
           "yaxis": {
            "backgroundcolor": "#E5ECF6",
            "gridcolor": "white",
            "gridwidth": 2,
            "linecolor": "white",
            "showbackground": true,
            "ticks": "",
            "zerolinecolor": "white"
           },
           "zaxis": {
            "backgroundcolor": "#E5ECF6",
            "gridcolor": "white",
            "gridwidth": 2,
            "linecolor": "white",
            "showbackground": true,
            "ticks": "",
            "zerolinecolor": "white"
           }
          },
          "shapedefaults": {
           "line": {
            "color": "#2a3f5f"
           }
          },
          "ternary": {
           "aaxis": {
            "gridcolor": "white",
            "linecolor": "white",
            "ticks": ""
           },
           "baxis": {
            "gridcolor": "white",
            "linecolor": "white",
            "ticks": ""
           },
           "bgcolor": "#E5ECF6",
           "caxis": {
            "gridcolor": "white",
            "linecolor": "white",
            "ticks": ""
           }
          },
          "title": {
           "x": 0.05
          },
          "xaxis": {
           "automargin": true,
           "gridcolor": "white",
           "linecolor": "white",
           "ticks": "",
           "title": {
            "standoff": 15
           },
           "zerolinecolor": "white",
           "zerolinewidth": 2
          },
          "yaxis": {
           "automargin": true,
           "gridcolor": "white",
           "linecolor": "white",
           "ticks": "",
           "title": {
            "standoff": 15
           },
           "zerolinecolor": "white",
           "zerolinewidth": 2
          }
         }
        },
        "xaxis": {
         "anchor": "y",
         "domain": [
          0,
          0.31999999999999995
         ],
         "title": {
          "text": "Batch Size (log2 scale)"
         }
        },
        "xaxis2": {
         "anchor": "y2",
         "domain": [
          0.33999999999999997,
          0.6599999999999999
         ],
         "matches": "x",
         "title": {
          "text": "Batch Size (log2 scale)"
         }
        },
        "xaxis3": {
         "anchor": "y3",
         "domain": [
          0.6799999999999999,
          0.9999999999999999
         ],
         "matches": "x",
         "title": {
          "text": "Batch Size (log2 scale)"
         }
        },
        "xaxis4": {
         "anchor": "y4",
         "domain": [
          0,
          0.31999999999999995
         ],
         "matches": "x",
         "showticklabels": false
        },
        "xaxis5": {
         "anchor": "y5",
         "domain": [
          0.33999999999999997,
          0.6599999999999999
         ],
         "matches": "x",
         "showticklabels": false
        },
        "xaxis6": {
         "anchor": "y6",
         "domain": [
          0.6799999999999999,
          0.9999999999999999
         ],
         "matches": "x",
         "showticklabels": false
        },
        "xaxis7": {
         "anchor": "y7",
         "domain": [
          0,
          0.31999999999999995
         ],
         "matches": "x",
         "showticklabels": false
        },
        "xaxis8": {
         "anchor": "y8",
         "domain": [
          0.33999999999999997,
          0.6599999999999999
         ],
         "matches": "x",
         "showticklabels": false
        },
        "xaxis9": {
         "anchor": "y9",
         "domain": [
          0.6799999999999999,
          0.9999999999999999
         ],
         "matches": "x",
         "showticklabels": false
        },
        "yaxis": {
         "anchor": "x",
         "domain": [
          0,
          0.2866666666666666
         ],
         "title": {
          "text": "Runtime (ms/invocation)"
         }
        },
        "yaxis2": {
         "anchor": "x2",
         "domain": [
          0,
          0.2866666666666666
         ],
         "matches": "y",
         "showticklabels": false
        },
        "yaxis3": {
         "anchor": "x3",
         "domain": [
          0,
          0.2866666666666666
         ],
         "matches": "y",
         "showticklabels": false
        },
        "yaxis4": {
         "anchor": "x4",
         "domain": [
          0.35666666666666663,
          0.6433333333333333
         ],
         "matches": "y",
         "title": {
          "text": "Runtime (ms/invocation)"
         }
        },
        "yaxis5": {
         "anchor": "x5",
         "domain": [
          0.35666666666666663,
          0.6433333333333333
         ],
         "matches": "y",
         "showticklabels": false
        },
        "yaxis6": {
         "anchor": "x6",
         "domain": [
          0.35666666666666663,
          0.6433333333333333
         ],
         "matches": "y",
         "showticklabels": false
        },
        "yaxis7": {
         "anchor": "x7",
         "domain": [
          0.7133333333333333,
          0.9999999999999999
         ],
         "matches": "y",
         "title": {
          "text": "Runtime (ms/invocation)"
         }
        },
        "yaxis8": {
         "anchor": "x8",
         "domain": [
          0.7133333333333333,
          0.9999999999999999
         ],
         "matches": "y",
         "showticklabels": false
        },
        "yaxis9": {
         "anchor": "x9",
         "domain": [
          0.7133333333333333,
          0.9999999999999999
         ],
         "matches": "y",
         "showticklabels": false
        }
       }
      }
     },
     "metadata": {},
     "output_type": "display_data"
    }
   ],
   "source": [
    "px.bar(\n",
    "    results,\n",
    "    x=\"Batch Size (log2 scale)\",\n",
    "    y=\"Runtime (ms/invocation)\",\n",
    "    color=\"Sampler Algo\",\n",
    "    facet_col=\"Number of Players\",\n",
    "    facet_col_wrap=3,\n",
    "    barmode=\"group\",\n",
    "    height=800,\n",
    ")"
   ]
  },
  {
   "cell_type": "code",
   "execution_count": 10,
   "metadata": {},
   "outputs": [
    {
     "data": {
      "application/vnd.plotly.v1+json": {
       "config": {
        "plotlyServerURL": "https://plot.ly"
       },
       "data": [
        {
         "alignmentgroup": "True",
         "hovertemplate": "Sampler Algo=Original<br>Batch Size=16.0<br>Number of Players (log2 scale)=%{x}<br>Runtime (ms/invocation)=%{y}<extra></extra>",
         "legendgroup": "Original",
         "marker": {
          "color": "#636efa",
          "pattern": {
           "shape": ""
          }
         },
         "name": "Original",
         "offsetgroup": "Original",
         "orientation": "v",
         "showlegend": true,
         "textposition": "auto",
         "type": "bar",
         "x": [
          4,
          5,
          6,
          7,
          8,
          9,
          10
         ],
         "xaxis": "x7",
         "y": [
          0.45514345169067383,
          0.412137508392334,
          0.43119192123413086,
          0.41642189025878906,
          0.46888113021850586,
          0.46045541763305664,
          0.5618071556091309
         ],
         "yaxis": "y7"
        },
        {
         "alignmentgroup": "True",
         "hovertemplate": "Sampler Algo=Original<br>Batch Size=32.0<br>Number of Players (log2 scale)=%{x}<br>Runtime (ms/invocation)=%{y}<extra></extra>",
         "legendgroup": "Original",
         "marker": {
          "color": "#636efa",
          "pattern": {
           "shape": ""
          }
         },
         "name": "Original",
         "offsetgroup": "Original",
         "orientation": "v",
         "showlegend": false,
         "textposition": "auto",
         "type": "bar",
         "x": [
          4,
          5,
          6,
          7,
          8,
          9,
          10
         ],
         "xaxis": "x8",
         "y": [
          0.7901835441589355,
          0.7956886291503906,
          0.8411026000976562,
          0.8480453491210938,
          0.8559370040893555,
          0.9475851058959961,
          1.0377979278564453
         ],
         "yaxis": "y8"
        },
        {
         "alignmentgroup": "True",
         "hovertemplate": "Sampler Algo=Original<br>Batch Size=64.0<br>Number of Players (log2 scale)=%{x}<br>Runtime (ms/invocation)=%{y}<extra></extra>",
         "legendgroup": "Original",
         "marker": {
          "color": "#636efa",
          "pattern": {
           "shape": ""
          }
         },
         "name": "Original",
         "offsetgroup": "Original",
         "orientation": "v",
         "showlegend": false,
         "textposition": "auto",
         "type": "bar",
         "x": [
          4,
          5,
          6,
          7,
          8,
          9,
          10
         ],
         "xaxis": "x9",
         "y": [
          1.4508652687072754,
          1.5714406967163086,
          1.529529094696045,
          1.5264105796813965,
          1.6996335983276367,
          1.816861629486084,
          1.9526314735412598
         ],
         "yaxis": "y9"
        },
        {
         "alignmentgroup": "True",
         "hovertemplate": "Sampler Algo=Original<br>Batch Size=128.0<br>Number of Players (log2 scale)=%{x}<br>Runtime (ms/invocation)=%{y}<extra></extra>",
         "legendgroup": "Original",
         "marker": {
          "color": "#636efa",
          "pattern": {
           "shape": ""
          }
         },
         "name": "Original",
         "offsetgroup": "Original",
         "orientation": "v",
         "showlegend": false,
         "textposition": "auto",
         "type": "bar",
         "x": [
          4,
          5,
          6,
          7,
          8,
          9,
          10
         ],
         "xaxis": "x4",
         "y": [
          2.891702651977539,
          3.0406785011291504,
          2.9735803604125977,
          3.061249256134033,
          3.2242608070373535,
          3.492269515991211,
          3.902163505554199
         ],
         "yaxis": "y4"
        },
        {
         "alignmentgroup": "True",
         "hovertemplate": "Sampler Algo=Original<br>Batch Size=256.0<br>Number of Players (log2 scale)=%{x}<br>Runtime (ms/invocation)=%{y}<extra></extra>",
         "legendgroup": "Original",
         "marker": {
          "color": "#636efa",
          "pattern": {
           "shape": ""
          }
         },
         "name": "Original",
         "offsetgroup": "Original",
         "orientation": "v",
         "showlegend": false,
         "textposition": "auto",
         "type": "bar",
         "x": [
          4,
          5,
          6,
          7,
          8,
          9,
          10
         ],
         "xaxis": "x5",
         "y": [
          6.084041595458984,
          5.869269371032715,
          5.762689113616943,
          6.057546138763428,
          6.393380165100098,
          6.928865909576416,
          8.206384181976318
         ],
         "yaxis": "y5"
        },
        {
         "alignmentgroup": "True",
         "hovertemplate": "Sampler Algo=Original<br>Batch Size=512.0<br>Number of Players (log2 scale)=%{x}<br>Runtime (ms/invocation)=%{y}<extra></extra>",
         "legendgroup": "Original",
         "marker": {
          "color": "#636efa",
          "pattern": {
           "shape": ""
          }
         },
         "name": "Original",
         "offsetgroup": "Original",
         "orientation": "v",
         "showlegend": false,
         "textposition": "auto",
         "type": "bar",
         "x": [
          4,
          5,
          6,
          7,
          8,
          9,
          10
         ],
         "xaxis": "x6",
         "y": [
          11.938393115997314,
          12.00995683670044,
          11.886346340179443,
          12.136614322662354,
          12.718243598937988,
          14.483516216278076,
          16.10469102859497
         ],
         "yaxis": "y6"
        },
        {
         "alignmentgroup": "True",
         "hovertemplate": "Sampler Algo=Original<br>Batch Size=1024.0<br>Number of Players (log2 scale)=%{x}<br>Runtime (ms/invocation)=%{y}<extra></extra>",
         "legendgroup": "Original",
         "marker": {
          "color": "#636efa",
          "pattern": {
           "shape": ""
          }
         },
         "name": "Original",
         "offsetgroup": "Original",
         "orientation": "v",
         "showlegend": false,
         "textposition": "auto",
         "type": "bar",
         "x": [
          4,
          5,
          6,
          7,
          8,
          9,
          10
         ],
         "xaxis": "x",
         "y": [
          23.84711503982544,
          23.59142303466797,
          24.131004810333252,
          24.491539001464844,
          25.35271644592285,
          28.153533935546875,
          31.79743766784668
         ],
         "yaxis": "y"
        },
        {
         "alignmentgroup": "True",
         "hovertemplate": "Sampler Algo=ArgSortCPU<br>Batch Size=16.0<br>Number of Players (log2 scale)=%{x}<br>Runtime (ms/invocation)=%{y}<extra></extra>",
         "legendgroup": "ArgSortCPU",
         "marker": {
          "color": "#EF553B",
          "pattern": {
           "shape": ""
          }
         },
         "name": "ArgSortCPU",
         "offsetgroup": "ArgSortCPU",
         "orientation": "v",
         "showlegend": true,
         "textposition": "auto",
         "type": "bar",
         "x": [
          4,
          5,
          6,
          7,
          8,
          9,
          10
         ],
         "xaxis": "x7",
         "y": [
          0.13007640838623047,
          0.12506723403930664,
          0.20143508911132812,
          0.2652430534362793,
          0.49138545989990234,
          1.0368919372558594,
          2.1045970916748047
         ],
         "yaxis": "y7"
        },
        {
         "alignmentgroup": "True",
         "hovertemplate": "Sampler Algo=ArgSortCPU<br>Batch Size=32.0<br>Number of Players (log2 scale)=%{x}<br>Runtime (ms/invocation)=%{y}<extra></extra>",
         "legendgroup": "ArgSortCPU",
         "marker": {
          "color": "#EF553B",
          "pattern": {
           "shape": ""
          }
         },
         "name": "ArgSortCPU",
         "offsetgroup": "ArgSortCPU",
         "orientation": "v",
         "showlegend": false,
         "textposition": "auto",
         "type": "bar",
         "x": [
          4,
          5,
          6,
          7,
          8,
          9,
          10
         ],
         "xaxis": "x8",
         "y": [
          0.12004852294921875,
          0.15014171600341797,
          0.2551865577697754,
          0.47543764114379883,
          0.8709716796875,
          1.8214607238769531,
          4.008302688598633
         ],
         "yaxis": "y8"
        },
        {
         "alignmentgroup": "True",
         "hovertemplate": "Sampler Algo=ArgSortCPU<br>Batch Size=64.0<br>Number of Players (log2 scale)=%{x}<br>Runtime (ms/invocation)=%{y}<extra></extra>",
         "legendgroup": "ArgSortCPU",
         "marker": {
          "color": "#EF553B",
          "pattern": {
           "shape": ""
          }
         },
         "name": "ArgSortCPU",
         "offsetgroup": "ArgSortCPU",
         "orientation": "v",
         "showlegend": false,
         "textposition": "auto",
         "type": "bar",
         "x": [
          4,
          5,
          6,
          7,
          8,
          9,
          10
         ],
         "xaxis": "x9",
         "y": [
          0.1456284523010254,
          0.21011829376220703,
          0.42575597763061523,
          0.7857942581176758,
          1.6483736038208008,
          3.6194419860839844,
          4.424653053283691
         ],
         "yaxis": "y9"
        },
        {
         "alignmentgroup": "True",
         "hovertemplate": "Sampler Algo=ArgSortCPU<br>Batch Size=128.0<br>Number of Players (log2 scale)=%{x}<br>Runtime (ms/invocation)=%{y}<extra></extra>",
         "legendgroup": "ArgSortCPU",
         "marker": {
          "color": "#EF553B",
          "pattern": {
           "shape": ""
          }
         },
         "name": "ArgSortCPU",
         "offsetgroup": "ArgSortCPU",
         "orientation": "v",
         "showlegend": false,
         "textposition": "auto",
         "type": "bar",
         "x": [
          4,
          5,
          6,
          7,
          8,
          9,
          10
         ],
         "xaxis": "x4",
         "y": [
          0.2101302146911621,
          0.315244197845459,
          0.625913143157959,
          1.479349136352539,
          3.0655312538146973,
          3.9006400108337402,
          5.2536725997924805
         ],
         "yaxis": "y4"
        },
        {
         "alignmentgroup": "True",
         "hovertemplate": "Sampler Algo=ArgSortCPU<br>Batch Size=256.0<br>Number of Players (log2 scale)=%{x}<br>Runtime (ms/invocation)=%{y}<extra></extra>",
         "legendgroup": "ArgSortCPU",
         "marker": {
          "color": "#EF553B",
          "pattern": {
           "shape": ""
          }
         },
         "name": "ArgSortCPU",
         "offsetgroup": "ArgSortCPU",
         "orientation": "v",
         "showlegend": false,
         "textposition": "auto",
         "type": "bar",
         "x": [
          4,
          5,
          6,
          7,
          8,
          9,
          10
         ],
         "xaxis": "x5",
         "y": [
          0.29022693634033203,
          0.5404925346374512,
          1.1717700958251953,
          2.8253698348999023,
          3.2884740829467773,
          4.627513885498047,
          7.5136518478393555
         ],
         "yaxis": "y5"
        },
        {
         "alignmentgroup": "True",
         "hovertemplate": "Sampler Algo=ArgSortCPU<br>Batch Size=512.0<br>Number of Players (log2 scale)=%{x}<br>Runtime (ms/invocation)=%{y}<extra></extra>",
         "legendgroup": "ArgSortCPU",
         "marker": {
          "color": "#EF553B",
          "pattern": {
           "shape": ""
          }
         },
         "name": "ArgSortCPU",
         "offsetgroup": "ArgSortCPU",
         "orientation": "v",
         "showlegend": false,
         "textposition": "auto",
         "type": "bar",
         "x": [
          4,
          5,
          6,
          7,
          8,
          9,
          10
         ],
         "xaxis": "x6",
         "y": [
          0.4456758499145508,
          1.005868911743164,
          2.3685812950134277,
          3.2016730308532715,
          4.073121547698975,
          6.894114017486572,
          13.212292194366455
         ],
         "yaxis": "y6"
        },
        {
         "alignmentgroup": "True",
         "hovertemplate": "Sampler Algo=ArgSortCPU<br>Batch Size=1024.0<br>Number of Players (log2 scale)=%{x}<br>Runtime (ms/invocation)=%{y}<extra></extra>",
         "legendgroup": "ArgSortCPU",
         "marker": {
          "color": "#EF553B",
          "pattern": {
           "shape": ""
          }
         },
         "name": "ArgSortCPU",
         "offsetgroup": "ArgSortCPU",
         "orientation": "v",
         "showlegend": false,
         "textposition": "auto",
         "type": "bar",
         "x": [
          4,
          5,
          6,
          7,
          8,
          9,
          10
         ],
         "xaxis": "x",
         "y": [
          0.7006573677062988,
          1.871936321258545,
          2.6677441596984863,
          3.8642311096191406,
          6.447439193725586,
          11.98115348815918,
          25.56468963623047
         ],
         "yaxis": "y"
        },
        {
         "alignmentgroup": "True",
         "hovertemplate": "Sampler Algo=MultinomialCPU<br>Batch Size=16.0<br>Number of Players (log2 scale)=%{x}<br>Runtime (ms/invocation)=%{y}<extra></extra>",
         "legendgroup": "MultinomialCPU",
         "marker": {
          "color": "#00cc96",
          "pattern": {
           "shape": ""
          }
         },
         "name": "MultinomialCPU",
         "offsetgroup": "MultinomialCPU",
         "orientation": "v",
         "showlegend": true,
         "textposition": "auto",
         "type": "bar",
         "x": [
          4,
          5,
          6,
          7,
          8,
          9,
          10
         ],
         "xaxis": "x7",
         "y": [
          0.1801896095275879,
          0.18505334854125977,
          0.2001357078552246,
          0.27625322341918945,
          0.48785924911499023,
          0.7864212989807129,
          1.426241397857666
         ],
         "yaxis": "y7"
        },
        {
         "alignmentgroup": "True",
         "hovertemplate": "Sampler Algo=MultinomialCPU<br>Batch Size=32.0<br>Number of Players (log2 scale)=%{x}<br>Runtime (ms/invocation)=%{y}<extra></extra>",
         "legendgroup": "MultinomialCPU",
         "marker": {
          "color": "#00cc96",
          "pattern": {
           "shape": ""
          }
         },
         "name": "MultinomialCPU",
         "offsetgroup": "MultinomialCPU",
         "orientation": "v",
         "showlegend": false,
         "textposition": "auto",
         "type": "bar",
         "x": [
          4,
          5,
          6,
          7,
          8,
          9,
          10
         ],
         "xaxis": "x8",
         "y": [
          0.19020318984985352,
          0.22014617919921875,
          0.2552056312561035,
          0.4011082649230957,
          0.6810951232910156,
          1.412956714630127,
          2.744448184967041
         ],
         "yaxis": "y8"
        },
        {
         "alignmentgroup": "True",
         "hovertemplate": "Sampler Algo=MultinomialCPU<br>Batch Size=64.0<br>Number of Players (log2 scale)=%{x}<br>Runtime (ms/invocation)=%{y}<extra></extra>",
         "legendgroup": "MultinomialCPU",
         "marker": {
          "color": "#00cc96",
          "pattern": {
           "shape": ""
          }
         },
         "name": "MultinomialCPU",
         "offsetgroup": "MultinomialCPU",
         "orientation": "v",
         "showlegend": false,
         "textposition": "auto",
         "type": "bar",
         "x": [
          4,
          5,
          6,
          7,
          8,
          9,
          10
         ],
         "xaxis": "x9",
         "y": [
          0.2101445198059082,
          0.24519205093383792,
          0.40817737579345703,
          0.6964516639709473,
          1.2012290954589844,
          2.5025534629821777,
          2.8877854347229004
         ],
         "yaxis": "y9"
        },
        {
         "alignmentgroup": "True",
         "hovertemplate": "Sampler Algo=MultinomialCPU<br>Batch Size=128.0<br>Number of Players (log2 scale)=%{x}<br>Runtime (ms/invocation)=%{y}<extra></extra>",
         "legendgroup": "MultinomialCPU",
         "marker": {
          "color": "#00cc96",
          "pattern": {
           "shape": ""
          }
         },
         "name": "MultinomialCPU",
         "offsetgroup": "MultinomialCPU",
         "orientation": "v",
         "showlegend": false,
         "textposition": "auto",
         "type": "bar",
         "x": [
          4,
          5,
          6,
          7,
          8,
          9,
          10
         ],
         "xaxis": "x4",
         "y": [
          0.2552008628845215,
          0.30622005462646484,
          0.6064057350158691,
          1.119849681854248,
          2.335660457611084,
          2.622096538543701,
          3.2685470581054688
         ],
         "yaxis": "y4"
        },
        {
         "alignmentgroup": "True",
         "hovertemplate": "Sampler Algo=MultinomialCPU<br>Batch Size=256.0<br>Number of Players (log2 scale)=%{x}<br>Runtime (ms/invocation)=%{y}<extra></extra>",
         "legendgroup": "MultinomialCPU",
         "marker": {
          "color": "#00cc96",
          "pattern": {
           "shape": ""
          }
         },
         "name": "MultinomialCPU",
         "offsetgroup": "MultinomialCPU",
         "orientation": "v",
         "showlegend": false,
         "textposition": "auto",
         "type": "bar",
         "x": [
          4,
          5,
          6,
          7,
          8,
          9,
          10
         ],
         "xaxis": "x5",
         "y": [
          0.30622005462646484,
          0.5054664611816406,
          0.9315609931945801,
          2.0667552947998047,
          2.429993152618408,
          3.0994749069213867,
          4.770634174346924
         ],
         "yaxis": "y5"
        },
        {
         "alignmentgroup": "True",
         "hovertemplate": "Sampler Algo=MultinomialCPU<br>Batch Size=512.0<br>Number of Players (log2 scale)=%{x}<br>Runtime (ms/invocation)=%{y}<extra></extra>",
         "legendgroup": "MultinomialCPU",
         "marker": {
          "color": "#00cc96",
          "pattern": {
           "shape": ""
          }
         },
         "name": "MultinomialCPU",
         "offsetgroup": "MultinomialCPU",
         "orientation": "v",
         "showlegend": false,
         "textposition": "auto",
         "type": "bar",
         "x": [
          4,
          5,
          6,
          7,
          8,
          9,
          10
         ],
         "xaxis": "x6",
         "y": [
          0.5102014541625977,
          0.7966279983520508,
          1.8349552154541016,
          2.0831775665283203,
          2.732539176940918,
          4.52775239944458,
          8.163301944732666
         ],
         "yaxis": "y6"
        },
        {
         "alignmentgroup": "True",
         "hovertemplate": "Sampler Algo=MultinomialCPU<br>Batch Size=1024.0<br>Number of Players (log2 scale)=%{x}<br>Runtime (ms/invocation)=%{y}<extra></extra>",
         "legendgroup": "MultinomialCPU",
         "marker": {
          "color": "#00cc96",
          "pattern": {
           "shape": ""
          }
         },
         "name": "MultinomialCPU",
         "offsetgroup": "MultinomialCPU",
         "orientation": "v",
         "showlegend": false,
         "textposition": "auto",
         "type": "bar",
         "x": [
          4,
          5,
          6,
          7,
          8,
          9,
          10
         ],
         "xaxis": "x",
         "y": [
          0.8204174041748047,
          1.3210725784301758,
          2.011442184448242,
          2.532072067260742,
          4.260678291320801,
          7.5547003746032715,
          15.148212909698486
         ],
         "yaxis": "y"
        },
        {
         "alignmentgroup": "True",
         "hovertemplate": "Sampler Algo=ThreshCPU<br>Batch Size=16.0<br>Number of Players (log2 scale)=%{x}<br>Runtime (ms/invocation)=%{y}<extra></extra>",
         "legendgroup": "ThreshCPU",
         "marker": {
          "color": "#ab63fa",
          "pattern": {
           "shape": ""
          }
         },
         "name": "ThreshCPU",
         "offsetgroup": "ThreshCPU",
         "orientation": "v",
         "showlegend": true,
         "textposition": "auto",
         "type": "bar",
         "x": [
          4,
          5,
          6,
          7,
          8,
          9,
          10
         ],
         "xaxis": "x7",
         "y": [
          0.17008543014526367,
          0.16823291778564453,
          0.1754307746887207,
          0.210113525390625,
          0.25604963302612305,
          0.3201460838317871,
          0.4704403877258301
         ],
         "yaxis": "y7"
        },
        {
         "alignmentgroup": "True",
         "hovertemplate": "Sampler Algo=ThreshCPU<br>Batch Size=32.0<br>Number of Players (log2 scale)=%{x}<br>Runtime (ms/invocation)=%{y}<extra></extra>",
         "legendgroup": "ThreshCPU",
         "marker": {
          "color": "#ab63fa",
          "pattern": {
           "shape": ""
          }
         },
         "name": "ThreshCPU",
         "offsetgroup": "ThreshCPU",
         "orientation": "v",
         "showlegend": false,
         "textposition": "auto",
         "type": "bar",
         "x": [
          4,
          5,
          6,
          7,
          8,
          9,
          10
         ],
         "xaxis": "x8",
         "y": [
          0.16509056091308594,
          0.1687169075012207,
          0.19573688507080078,
          0.24035215377807617,
          0.3357124328613281,
          0.4316568374633789,
          0.6555485725402832
         ],
         "yaxis": "y8"
        },
        {
         "alignmentgroup": "True",
         "hovertemplate": "Sampler Algo=ThreshCPU<br>Batch Size=64.0<br>Number of Players (log2 scale)=%{x}<br>Runtime (ms/invocation)=%{y}<extra></extra>",
         "legendgroup": "ThreshCPU",
         "marker": {
          "color": "#ab63fa",
          "pattern": {
           "shape": ""
          }
         },
         "name": "ThreshCPU",
         "offsetgroup": "ThreshCPU",
         "orientation": "v",
         "showlegend": false,
         "textposition": "auto",
         "type": "bar",
         "x": [
          4,
          5,
          6,
          7,
          8,
          9,
          10
         ],
         "xaxis": "x9",
         "y": [
          0.18530607223510742,
          0.19673585891723633,
          0.22564172744750977,
          0.33004283905029297,
          0.41051387786865234,
          0.6509780883789062,
          0.9259510040283203
         ],
         "yaxis": "y9"
        },
        {
         "alignmentgroup": "True",
         "hovertemplate": "Sampler Algo=ThreshCPU<br>Batch Size=128.0<br>Number of Players (log2 scale)=%{x}<br>Runtime (ms/invocation)=%{y}<extra></extra>",
         "legendgroup": "ThreshCPU",
         "marker": {
          "color": "#ab63fa",
          "pattern": {
           "shape": ""
          }
         },
         "name": "ThreshCPU",
         "offsetgroup": "ThreshCPU",
         "orientation": "v",
         "showlegend": false,
         "textposition": "auto",
         "type": "bar",
         "x": [
          4,
          5,
          6,
          7,
          8,
          9,
          10
         ],
         "xaxis": "x4",
         "y": [
          0.19013166427612305,
          0.2353501319885254,
          0.29578447341918945,
          0.4301023483276367,
          0.7456064224243164,
          0.9662747383117676,
          1.7926478385925293
         ],
         "yaxis": "y4"
        },
        {
         "alignmentgroup": "True",
         "hovertemplate": "Sampler Algo=ThreshCPU<br>Batch Size=256.0<br>Number of Players (log2 scale)=%{x}<br>Runtime (ms/invocation)=%{y}<extra></extra>",
         "legendgroup": "ThreshCPU",
         "marker": {
          "color": "#ab63fa",
          "pattern": {
           "shape": ""
          }
         },
         "name": "ThreshCPU",
         "offsetgroup": "ThreshCPU",
         "orientation": "v",
         "showlegend": false,
         "textposition": "auto",
         "type": "bar",
         "x": [
          4,
          5,
          6,
          7,
          8,
          9,
          10
         ],
         "xaxis": "x5",
         "y": [
          0.27564048767089844,
          0.31052589416503906,
          0.42661428451538086,
          0.7202506065368652,
          0.886223316192627,
          1.70792818069458,
          3.549830913543701
         ],
         "yaxis": "y5"
        },
        {
         "alignmentgroup": "True",
         "hovertemplate": "Sampler Algo=ThreshCPU<br>Batch Size=512.0<br>Number of Players (log2 scale)=%{x}<br>Runtime (ms/invocation)=%{y}<extra></extra>",
         "legendgroup": "ThreshCPU",
         "marker": {
          "color": "#ab63fa",
          "pattern": {
           "shape": ""
          }
         },
         "name": "ThreshCPU",
         "offsetgroup": "ThreshCPU",
         "orientation": "v",
         "showlegend": false,
         "textposition": "auto",
         "type": "bar",
         "x": [
          4,
          5,
          6,
          7,
          8,
          9,
          10
         ],
         "xaxis": "x6",
         "y": [
          0.3238677978515625,
          0.4457426071166992,
          0.6811189651489258,
          1.0105013847351074,
          1.9089293479919434,
          3.4752750396728516,
          6.453700065612793
         ],
         "yaxis": "y6"
        },
        {
         "alignmentgroup": "True",
         "hovertemplate": "Sampler Algo=ThreshCPU<br>Batch Size=1024.0<br>Number of Players (log2 scale)=%{x}<br>Runtime (ms/invocation)=%{y}<extra></extra>",
         "legendgroup": "ThreshCPU",
         "marker": {
          "color": "#ab63fa",
          "pattern": {
           "shape": ""
          }
         },
         "name": "ThreshCPU",
         "offsetgroup": "ThreshCPU",
         "orientation": "v",
         "showlegend": false,
         "textposition": "auto",
         "type": "bar",
         "x": [
          4,
          5,
          6,
          7,
          8,
          9,
          10
         ],
         "xaxis": "x",
         "y": [
          0.5113911628723145,
          0.7214784622192383,
          0.9175300598144531,
          1.728377342224121,
          3.426995277404785,
          6.470980644226074,
          11.658210754394531
         ],
         "yaxis": "y"
        },
        {
         "alignmentgroup": "True",
         "hovertemplate": "Sampler Algo=NumpyPermuteCPU<br>Batch Size=16.0<br>Number of Players (log2 scale)=%{x}<br>Runtime (ms/invocation)=%{y}<extra></extra>",
         "legendgroup": "NumpyPermuteCPU",
         "marker": {
          "color": "#FFA15A",
          "pattern": {
           "shape": ""
          }
         },
         "name": "NumpyPermuteCPU",
         "offsetgroup": "NumpyPermuteCPU",
         "orientation": "v",
         "showlegend": true,
         "textposition": "auto",
         "type": "bar",
         "x": [
          4,
          5,
          6,
          7,
          8,
          9,
          10
         ],
         "xaxis": "x7",
         "y": [
          0.12520313262939453,
          0.15183687210083008,
          0.13652801513671875,
          0.16292095184326172,
          0.17612695693969727,
          0.2253103256225586,
          0.35031795501708984
         ],
         "yaxis": "y7"
        },
        {
         "alignmentgroup": "True",
         "hovertemplate": "Sampler Algo=NumpyPermuteCPU<br>Batch Size=32.0<br>Number of Players (log2 scale)=%{x}<br>Runtime (ms/invocation)=%{y}<extra></extra>",
         "legendgroup": "NumpyPermuteCPU",
         "marker": {
          "color": "#FFA15A",
          "pattern": {
           "shape": ""
          }
         },
         "name": "NumpyPermuteCPU",
         "offsetgroup": "NumpyPermuteCPU",
         "orientation": "v",
         "showlegend": false,
         "textposition": "auto",
         "type": "bar",
         "x": [
          4,
          5,
          6,
          7,
          8,
          9,
          10
         ],
         "xaxis": "x8",
         "y": [
          0.13520479202270508,
          0.14537334442138672,
          0.1480388641357422,
          0.17819643020629883,
          0.24004697799682617,
          0.36259889602661133,
          0.6152629852294922
         ],
         "yaxis": "y8"
        },
        {
         "alignmentgroup": "True",
         "hovertemplate": "Sampler Algo=NumpyPermuteCPU<br>Batch Size=64.0<br>Number of Players (log2 scale)=%{x}<br>Runtime (ms/invocation)=%{y}<extra></extra>",
         "legendgroup": "NumpyPermuteCPU",
         "marker": {
          "color": "#FFA15A",
          "pattern": {
           "shape": ""
          }
         },
         "name": "NumpyPermuteCPU",
         "offsetgroup": "NumpyPermuteCPU",
         "orientation": "v",
         "showlegend": false,
         "textposition": "auto",
         "type": "bar",
         "x": [
          4,
          5,
          6,
          7,
          8,
          9,
          10
         ],
         "xaxis": "x9",
         "y": [
          0.1361560821533203,
          0.15530824661254883,
          0.1874256134033203,
          0.23284196853637695,
          0.3451371192932129,
          0.5855917930603027,
          1.0495686531066895
         ],
         "yaxis": "y9"
        },
        {
         "alignmentgroup": "True",
         "hovertemplate": "Sampler Algo=NumpyPermuteCPU<br>Batch Size=128.0<br>Number of Players (log2 scale)=%{x}<br>Runtime (ms/invocation)=%{y}<extra></extra>",
         "legendgroup": "NumpyPermuteCPU",
         "marker": {
          "color": "#FFA15A",
          "pattern": {
           "shape": ""
          }
         },
         "name": "NumpyPermuteCPU",
         "offsetgroup": "NumpyPermuteCPU",
         "orientation": "v",
         "showlegend": false,
         "textposition": "auto",
         "type": "bar",
         "x": [
          4,
          5,
          6,
          7,
          8,
          9,
          10
         ],
         "xaxis": "x4",
         "y": [
          0.15541315078735352,
          0.18599271774291992,
          0.23383855819702148,
          0.3424859046936035,
          0.625603199005127,
          1.0140490531921387,
          1.9012904167175293
         ],
         "yaxis": "y4"
        },
        {
         "alignmentgroup": "True",
         "hovertemplate": "Sampler Algo=NumpyPermuteCPU<br>Batch Size=256.0<br>Number of Players (log2 scale)=%{x}<br>Runtime (ms/invocation)=%{y}<extra></extra>",
         "legendgroup": "NumpyPermuteCPU",
         "marker": {
          "color": "#FFA15A",
          "pattern": {
           "shape": ""
          }
         },
         "name": "NumpyPermuteCPU",
         "offsetgroup": "NumpyPermuteCPU",
         "orientation": "v",
         "showlegend": false,
         "textposition": "auto",
         "type": "bar",
         "x": [
          4,
          5,
          6,
          7,
          8,
          9,
          10
         ],
         "xaxis": "x5",
         "y": [
          0.20029544830322266,
          0.24042367935180664,
          0.3554654121398926,
          0.5703353881835938,
          1.053621768951416,
          1.9272685050964355,
          4.254269599914551
         ],
         "yaxis": "y5"
        },
        {
         "alignmentgroup": "True",
         "hovertemplate": "Sampler Algo=NumpyPermuteCPU<br>Batch Size=512.0<br>Number of Players (log2 scale)=%{x}<br>Runtime (ms/invocation)=%{y}<extra></extra>",
         "legendgroup": "NumpyPermuteCPU",
         "marker": {
          "color": "#FFA15A",
          "pattern": {
           "shape": ""
          }
         },
         "name": "NumpyPermuteCPU",
         "offsetgroup": "NumpyPermuteCPU",
         "orientation": "v",
         "showlegend": false,
         "textposition": "auto",
         "type": "bar",
         "x": [
          4,
          5,
          6,
          7,
          8,
          9,
          10
         ],
         "xaxis": "x6",
         "y": [
          0.27590036392211914,
          0.34314870834350586,
          0.5755615234375,
          1.0169076919555664,
          2.077944278717041,
          4.085118770599365,
          8.272545337677002
         ],
         "yaxis": "y6"
        },
        {
         "alignmentgroup": "True",
         "hovertemplate": "Sampler Algo=NumpyPermuteCPU<br>Batch Size=1024.0<br>Number of Players (log2 scale)=%{x}<br>Runtime (ms/invocation)=%{y}<extra></extra>",
         "legendgroup": "NumpyPermuteCPU",
         "marker": {
          "color": "#FFA15A",
          "pattern": {
           "shape": ""
          }
         },
         "name": "NumpyPermuteCPU",
         "offsetgroup": "NumpyPermuteCPU",
         "orientation": "v",
         "showlegend": false,
         "textposition": "auto",
         "type": "bar",
         "x": [
          4,
          5,
          6,
          7,
          8,
          9,
          10
         ],
         "xaxis": "x",
         "y": [
          0.38730382919311523,
          0.5781364440917969,
          1.0363173484802246,
          2.026808261871338,
          4.111263751983643,
          8.640451431274414,
          16.818408966064453
         ],
         "yaxis": "y"
        },
        {
         "alignmentgroup": "True",
         "hovertemplate": "Sampler Algo=ArgSortGPU<br>Batch Size=16.0<br>Number of Players (log2 scale)=%{x}<br>Runtime (ms/invocation)=%{y}<extra></extra>",
         "legendgroup": "ArgSortGPU",
         "marker": {
          "color": "#19d3f3",
          "pattern": {
           "shape": ""
          }
         },
         "name": "ArgSortGPU",
         "offsetgroup": "ArgSortGPU",
         "orientation": "v",
         "showlegend": true,
         "textposition": "auto",
         "type": "bar",
         "x": [
          4,
          5,
          6,
          7,
          8,
          9,
          10
         ],
         "xaxis": "x7",
         "y": [
          1.601247787475586,
          0.3130793571472168,
          0.3105807304382324,
          0.3302788734436035,
          0.35027027130126953,
          0.34174680709838867,
          0.3253459930419922
         ],
         "yaxis": "y7"
        },
        {
         "alignmentgroup": "True",
         "hovertemplate": "Sampler Algo=ArgSortGPU<br>Batch Size=32.0<br>Number of Players (log2 scale)=%{x}<br>Runtime (ms/invocation)=%{y}<extra></extra>",
         "legendgroup": "ArgSortGPU",
         "marker": {
          "color": "#19d3f3",
          "pattern": {
           "shape": ""
          }
         },
         "name": "ArgSortGPU",
         "offsetgroup": "ArgSortGPU",
         "orientation": "v",
         "showlegend": false,
         "textposition": "auto",
         "type": "bar",
         "x": [
          4,
          5,
          6,
          7,
          8,
          9,
          10
         ],
         "xaxis": "x8",
         "y": [
          0.5747103691101074,
          0.3178286552429199,
          0.3143882751464844,
          0.3402137756347656,
          0.34032106399536133,
          0.3053617477416992,
          0.3502058982849121
         ],
         "yaxis": "y8"
        },
        {
         "alignmentgroup": "True",
         "hovertemplate": "Sampler Algo=ArgSortGPU<br>Batch Size=64.0<br>Number of Players (log2 scale)=%{x}<br>Runtime (ms/invocation)=%{y}<extra></extra>",
         "legendgroup": "ArgSortGPU",
         "marker": {
          "color": "#19d3f3",
          "pattern": {
           "shape": ""
          }
         },
         "name": "ArgSortGPU",
         "offsetgroup": "ArgSortGPU",
         "orientation": "v",
         "showlegend": false,
         "textposition": "auto",
         "type": "bar",
         "x": [
          4,
          5,
          6,
          7,
          8,
          9,
          10
         ],
         "xaxis": "x9",
         "y": [
          0.3051161766052246,
          0.3134465217590332,
          0.3110527992248535,
          0.3104281425476074,
          0.36556482315063477,
          0.37631750106811523,
          0.32243967056274414
         ],
         "yaxis": "y9"
        },
        {
         "alignmentgroup": "True",
         "hovertemplate": "Sampler Algo=ArgSortGPU<br>Batch Size=128.0<br>Number of Players (log2 scale)=%{x}<br>Runtime (ms/invocation)=%{y}<extra></extra>",
         "legendgroup": "ArgSortGPU",
         "marker": {
          "color": "#19d3f3",
          "pattern": {
           "shape": ""
          }
         },
         "name": "ArgSortGPU",
         "offsetgroup": "ArgSortGPU",
         "orientation": "v",
         "showlegend": false,
         "textposition": "auto",
         "type": "bar",
         "x": [
          4,
          5,
          6,
          7,
          8,
          9,
          10
         ],
         "xaxis": "x4",
         "y": [
          0.34009218215942383,
          0.3110814094543457,
          0.31009912490844727,
          0.35903453826904297,
          0.31557559967041016,
          0.36206722259521484,
          0.35599231719970703
         ],
         "yaxis": "y4"
        },
        {
         "alignmentgroup": "True",
         "hovertemplate": "Sampler Algo=ArgSortGPU<br>Batch Size=256.0<br>Number of Players (log2 scale)=%{x}<br>Runtime (ms/invocation)=%{y}<extra></extra>",
         "legendgroup": "ArgSortGPU",
         "marker": {
          "color": "#19d3f3",
          "pattern": {
           "shape": ""
          }
         },
         "name": "ArgSortGPU",
         "offsetgroup": "ArgSortGPU",
         "orientation": "v",
         "showlegend": false,
         "textposition": "auto",
         "type": "bar",
         "x": [
          4,
          5,
          6,
          7,
          8,
          9,
          10
         ],
         "xaxis": "x5",
         "y": [
          0.3403329849243164,
          0.33214330673217773,
          0.3275179862976074,
          0.3636026382446289,
          0.3255271911621094,
          0.4374074935913086,
          0.35552501678466797
         ],
         "yaxis": "y5"
        },
        {
         "alignmentgroup": "True",
         "hovertemplate": "Sampler Algo=ArgSortGPU<br>Batch Size=512.0<br>Number of Players (log2 scale)=%{x}<br>Runtime (ms/invocation)=%{y}<extra></extra>",
         "legendgroup": "ArgSortGPU",
         "marker": {
          "color": "#19d3f3",
          "pattern": {
           "shape": ""
          }
         },
         "name": "ArgSortGPU",
         "offsetgroup": "ArgSortGPU",
         "orientation": "v",
         "showlegend": false,
         "textposition": "auto",
         "type": "bar",
         "x": [
          4,
          5,
          6,
          7,
          8,
          9,
          10
         ],
         "xaxis": "x6",
         "y": [
          0.3314208984375,
          0.33664464950561523,
          0.34819841384887695,
          0.3504371643066406,
          0.3833603858947754,
          0.36498308181762695,
          0.4299306869506836
         ],
         "yaxis": "y6"
        },
        {
         "alignmentgroup": "True",
         "hovertemplate": "Sampler Algo=ArgSortGPU<br>Batch Size=1024.0<br>Number of Players (log2 scale)=%{x}<br>Runtime (ms/invocation)=%{y}<extra></extra>",
         "legendgroup": "ArgSortGPU",
         "marker": {
          "color": "#19d3f3",
          "pattern": {
           "shape": ""
          }
         },
         "name": "ArgSortGPU",
         "offsetgroup": "ArgSortGPU",
         "orientation": "v",
         "showlegend": false,
         "textposition": "auto",
         "type": "bar",
         "x": [
          4,
          5,
          6,
          7,
          8,
          9,
          10
         ],
         "xaxis": "x",
         "y": [
          0.34264087677001953,
          0.3452420234680176,
          0.3755497932434082,
          0.3903961181640625,
          0.431215763092041,
          0.38025379180908203,
          0.42058229446411133
         ],
         "yaxis": "y"
        },
        {
         "alignmentgroup": "True",
         "hovertemplate": "Sampler Algo=MultinomialGPU<br>Batch Size=16.0<br>Number of Players (log2 scale)=%{x}<br>Runtime (ms/invocation)=%{y}<extra></extra>",
         "legendgroup": "MultinomialGPU",
         "marker": {
          "color": "#FF6692",
          "pattern": {
           "shape": ""
          }
         },
         "name": "MultinomialGPU",
         "offsetgroup": "MultinomialGPU",
         "orientation": "v",
         "showlegend": true,
         "textposition": "auto",
         "type": "bar",
         "x": [
          4,
          5,
          6,
          7,
          8,
          9,
          10
         ],
         "xaxis": "x7",
         "y": [
          1.3469505310058594,
          0.6451058387756348,
          0.5153894424438477,
          0.5874085426330566,
          0.588383674621582,
          0.5298542976379395,
          0.958552360534668
         ],
         "yaxis": "y7"
        },
        {
         "alignmentgroup": "True",
         "hovertemplate": "Sampler Algo=MultinomialGPU<br>Batch Size=32.0<br>Number of Players (log2 scale)=%{x}<br>Runtime (ms/invocation)=%{y}<extra></extra>",
         "legendgroup": "MultinomialGPU",
         "marker": {
          "color": "#FF6692",
          "pattern": {
           "shape": ""
          }
         },
         "name": "MultinomialGPU",
         "offsetgroup": "MultinomialGPU",
         "orientation": "v",
         "showlegend": false,
         "textposition": "auto",
         "type": "bar",
         "x": [
          4,
          5,
          6,
          7,
          8,
          9,
          10
         ],
         "xaxis": "x8",
         "y": [
          0.566093921661377,
          0.5652117729187012,
          0.576784610748291,
          0.6317281723022461,
          0.6007266044616699,
          0.531458854675293,
          0.6706809997558594
         ],
         "yaxis": "y8"
        },
        {
         "alignmentgroup": "True",
         "hovertemplate": "Sampler Algo=MultinomialGPU<br>Batch Size=64.0<br>Number of Players (log2 scale)=%{x}<br>Runtime (ms/invocation)=%{y}<extra></extra>",
         "legendgroup": "MultinomialGPU",
         "marker": {
          "color": "#FF6692",
          "pattern": {
           "shape": ""
          }
         },
         "name": "MultinomialGPU",
         "offsetgroup": "MultinomialGPU",
         "orientation": "v",
         "showlegend": false,
         "textposition": "auto",
         "type": "bar",
         "x": [
          4,
          5,
          6,
          7,
          8,
          9,
          10
         ],
         "xaxis": "x9",
         "y": [
          0.5576443672180176,
          0.7177114486694336,
          0.6004595756530762,
          0.5618572235107422,
          0.5706191062927246,
          0.5654549598693848,
          0.7019925117492676
         ],
         "yaxis": "y9"
        },
        {
         "alignmentgroup": "True",
         "hovertemplate": "Sampler Algo=MultinomialGPU<br>Batch Size=128.0<br>Number of Players (log2 scale)=%{x}<br>Runtime (ms/invocation)=%{y}<extra></extra>",
         "legendgroup": "MultinomialGPU",
         "marker": {
          "color": "#FF6692",
          "pattern": {
           "shape": ""
          }
         },
         "name": "MultinomialGPU",
         "offsetgroup": "MultinomialGPU",
         "orientation": "v",
         "showlegend": false,
         "textposition": "auto",
         "type": "bar",
         "x": [
          4,
          5,
          6,
          7,
          8,
          9,
          10
         ],
         "xaxis": "x4",
         "y": [
          0.5818939208984375,
          0.5853056907653809,
          0.6856155395507812,
          0.5905365943908691,
          0.5851602554321289,
          0.6403374671936035,
          0.7519721984863281
         ],
         "yaxis": "y4"
        },
        {
         "alignmentgroup": "True",
         "hovertemplate": "Sampler Algo=MultinomialGPU<br>Batch Size=256.0<br>Number of Players (log2 scale)=%{x}<br>Runtime (ms/invocation)=%{y}<extra></extra>",
         "legendgroup": "MultinomialGPU",
         "marker": {
          "color": "#FF6692",
          "pattern": {
           "shape": ""
          }
         },
         "name": "MultinomialGPU",
         "offsetgroup": "MultinomialGPU",
         "orientation": "v",
         "showlegend": false,
         "textposition": "auto",
         "type": "bar",
         "x": [
          4,
          5,
          6,
          7,
          8,
          9,
          10
         ],
         "xaxis": "x5",
         "y": [
          0.5755305290222168,
          0.6154751777648926,
          0.6733608245849609,
          0.6905937194824219,
          0.643007755279541,
          0.7260370254516602,
          1.1214876174926758
         ],
         "yaxis": "y5"
        },
        {
         "alignmentgroup": "True",
         "hovertemplate": "Sampler Algo=MultinomialGPU<br>Batch Size=512.0<br>Number of Players (log2 scale)=%{x}<br>Runtime (ms/invocation)=%{y}<extra></extra>",
         "legendgroup": "MultinomialGPU",
         "marker": {
          "color": "#FF6692",
          "pattern": {
           "shape": ""
          }
         },
         "name": "MultinomialGPU",
         "offsetgroup": "MultinomialGPU",
         "orientation": "v",
         "showlegend": false,
         "textposition": "auto",
         "type": "bar",
         "x": [
          4,
          5,
          6,
          7,
          8,
          9,
          10
         ],
         "xaxis": "x6",
         "y": [
          0.5854892730712891,
          0.5859708786010742,
          0.5919718742370605,
          0.6552338600158691,
          0.7465982437133789,
          1.1003851890563965,
          1.3145756721496582
         ],
         "yaxis": "y6"
        },
        {
         "alignmentgroup": "True",
         "hovertemplate": "Sampler Algo=MultinomialGPU<br>Batch Size=1024.0<br>Number of Players (log2 scale)=%{x}<br>Runtime (ms/invocation)=%{y}<extra></extra>",
         "legendgroup": "MultinomialGPU",
         "marker": {
          "color": "#FF6692",
          "pattern": {
           "shape": ""
          }
         },
         "name": "MultinomialGPU",
         "offsetgroup": "MultinomialGPU",
         "orientation": "v",
         "showlegend": false,
         "textposition": "auto",
         "type": "bar",
         "x": [
          4,
          5,
          6,
          7,
          8,
          9,
          10
         ],
         "xaxis": "x",
         "y": [
          0.6402683258056641,
          0.5904269218444824,
          0.6279873847961426,
          0.7467484474182129,
          1.0573506355285645,
          1.4238309860229492,
          1.9832730293273928
         ],
         "yaxis": "y"
        },
        {
         "alignmentgroup": "True",
         "hovertemplate": "Sampler Algo=ThreshGPU<br>Batch Size=16.0<br>Number of Players (log2 scale)=%{x}<br>Runtime (ms/invocation)=%{y}<extra></extra>",
         "legendgroup": "ThreshGPU",
         "marker": {
          "color": "#B6E880",
          "pattern": {
           "shape": ""
          }
         },
         "name": "ThreshGPU",
         "offsetgroup": "ThreshGPU",
         "orientation": "v",
         "showlegend": true,
         "textposition": "auto",
         "type": "bar",
         "x": [
          4,
          5,
          6,
          7,
          8,
          9,
          10
         ],
         "xaxis": "x7",
         "y": [
          0.6809473037719727,
          0.6307721138000488,
          0.5288386344909668,
          0.7315921783447266,
          0.6010293960571289,
          0.660400390625,
          0.9635424613952637
         ],
         "yaxis": "y7"
        },
        {
         "alignmentgroup": "True",
         "hovertemplate": "Sampler Algo=ThreshGPU<br>Batch Size=32.0<br>Number of Players (log2 scale)=%{x}<br>Runtime (ms/invocation)=%{y}<extra></extra>",
         "legendgroup": "ThreshGPU",
         "marker": {
          "color": "#B6E880",
          "pattern": {
           "shape": ""
          }
         },
         "name": "ThreshGPU",
         "offsetgroup": "ThreshGPU",
         "orientation": "v",
         "showlegend": false,
         "textposition": "auto",
         "type": "bar",
         "x": [
          4,
          5,
          6,
          7,
          8,
          9,
          10
         ],
         "xaxis": "x8",
         "y": [
          0.5653715133666992,
          0.5230331420898438,
          0.5412697792053223,
          0.6920266151428223,
          0.6154823303222656,
          0.7679581642150879,
          0.9779286384582518
         ],
         "yaxis": "y8"
        },
        {
         "alignmentgroup": "True",
         "hovertemplate": "Sampler Algo=ThreshGPU<br>Batch Size=64.0<br>Number of Players (log2 scale)=%{x}<br>Runtime (ms/invocation)=%{y}<extra></extra>",
         "legendgroup": "ThreshGPU",
         "marker": {
          "color": "#B6E880",
          "pattern": {
           "shape": ""
          }
         },
         "name": "ThreshGPU",
         "offsetgroup": "ThreshGPU",
         "orientation": "v",
         "showlegend": false,
         "textposition": "auto",
         "type": "bar",
         "x": [
          4,
          5,
          6,
          7,
          8,
          9,
          10
         ],
         "xaxis": "x9",
         "y": [
          0.5692338943481445,
          0.5581021308898926,
          0.558161735534668,
          0.6053948402404785,
          0.7009339332580566,
          1.0094785690307617,
          1.1712360382080078
         ],
         "yaxis": "y9"
        },
        {
         "alignmentgroup": "True",
         "hovertemplate": "Sampler Algo=ThreshGPU<br>Batch Size=128.0<br>Number of Players (log2 scale)=%{x}<br>Runtime (ms/invocation)=%{y}<extra></extra>",
         "legendgroup": "ThreshGPU",
         "marker": {
          "color": "#B6E880",
          "pattern": {
           "shape": ""
          }
         },
         "name": "ThreshGPU",
         "offsetgroup": "ThreshGPU",
         "orientation": "v",
         "showlegend": false,
         "textposition": "auto",
         "type": "bar",
         "x": [
          4,
          5,
          6,
          7,
          8,
          9,
          10
         ],
         "xaxis": "x4",
         "y": [
          0.5362415313720703,
          0.559999942779541,
          0.6723809242248535,
          0.6207895278930664,
          0.7849860191345215,
          1.2811803817749023,
          1.720287799835205
         ],
         "yaxis": "y4"
        },
        {
         "alignmentgroup": "True",
         "hovertemplate": "Sampler Algo=ThreshGPU<br>Batch Size=256.0<br>Number of Players (log2 scale)=%{x}<br>Runtime (ms/invocation)=%{y}<extra></extra>",
         "legendgroup": "ThreshGPU",
         "marker": {
          "color": "#B6E880",
          "pattern": {
           "shape": ""
          }
         },
         "name": "ThreshGPU",
         "offsetgroup": "ThreshGPU",
         "orientation": "v",
         "showlegend": false,
         "textposition": "auto",
         "type": "bar",
         "x": [
          4,
          5,
          6,
          7,
          8,
          9,
          10
         ],
         "xaxis": "x5",
         "y": [
          0.5575132369995117,
          0.5768060684204102,
          0.6949996948242188,
          0.721132755279541,
          1.2258553504943848,
          1.682267189025879,
          3.1544065475463867
         ],
         "yaxis": "y5"
        },
        {
         "alignmentgroup": "True",
         "hovertemplate": "Sampler Algo=ThreshGPU<br>Batch Size=512.0<br>Number of Players (log2 scale)=%{x}<br>Runtime (ms/invocation)=%{y}<extra></extra>",
         "legendgroup": "ThreshGPU",
         "marker": {
          "color": "#B6E880",
          "pattern": {
           "shape": ""
          }
         },
         "name": "ThreshGPU",
         "offsetgroup": "ThreshGPU",
         "orientation": "v",
         "showlegend": false,
         "textposition": "auto",
         "type": "bar",
         "x": [
          4,
          5,
          6,
          7,
          8,
          9,
          10
         ],
         "xaxis": "x6",
         "y": [
          0.6034135818481445,
          0.6305980682373047,
          0.770108699798584,
          0.9768795967102051,
          1.7095541954040527,
          2.9876208305358887,
          5.369601249694824
         ],
         "yaxis": "y6"
        },
        {
         "alignmentgroup": "True",
         "hovertemplate": "Sampler Algo=ThreshGPU<br>Batch Size=1024.0<br>Number of Players (log2 scale)=%{x}<br>Runtime (ms/invocation)=%{y}<extra></extra>",
         "legendgroup": "ThreshGPU",
         "marker": {
          "color": "#B6E880",
          "pattern": {
           "shape": ""
          }
         },
         "name": "ThreshGPU",
         "offsetgroup": "ThreshGPU",
         "orientation": "v",
         "showlegend": false,
         "textposition": "auto",
         "type": "bar",
         "x": [
          4,
          5,
          6,
          7,
          8,
          9,
          10
         ],
         "xaxis": "x",
         "y": [
          0.6494283676147461,
          0.7410597801208496,
          1.057753562927246,
          1.638479232788086,
          3.0078482627868652,
          5.289969444274902,
          9.543745517730713
         ],
         "yaxis": "y"
        }
       ],
       "layout": {
        "annotations": [
         {
          "font": {},
          "showarrow": false,
          "text": "Batch Size=1024.0",
          "x": 0.15999999999999998,
          "xanchor": "center",
          "xref": "paper",
          "y": 0.2866666666666666,
          "yanchor": "bottom",
          "yref": "paper"
         },
         {
          "font": {},
          "showarrow": false,
          "text": "Batch Size=128.0",
          "x": 0.15999999999999998,
          "xanchor": "center",
          "xref": "paper",
          "y": 0.6433333333333333,
          "yanchor": "bottom",
          "yref": "paper"
         },
         {
          "font": {},
          "showarrow": false,
          "text": "Batch Size=256.0",
          "x": 0.49999999999999994,
          "xanchor": "center",
          "xref": "paper",
          "y": 0.6433333333333333,
          "yanchor": "bottom",
          "yref": "paper"
         },
         {
          "font": {},
          "showarrow": false,
          "text": "Batch Size=512.0",
          "x": 0.8399999999999999,
          "xanchor": "center",
          "xref": "paper",
          "y": 0.6433333333333333,
          "yanchor": "bottom",
          "yref": "paper"
         },
         {
          "font": {},
          "showarrow": false,
          "text": "Batch Size=16.0",
          "x": 0.15999999999999998,
          "xanchor": "center",
          "xref": "paper",
          "y": 0.9999999999999999,
          "yanchor": "bottom",
          "yref": "paper"
         },
         {
          "font": {},
          "showarrow": false,
          "text": "Batch Size=32.0",
          "x": 0.49999999999999994,
          "xanchor": "center",
          "xref": "paper",
          "y": 0.9999999999999999,
          "yanchor": "bottom",
          "yref": "paper"
         },
         {
          "font": {},
          "showarrow": false,
          "text": "Batch Size=64.0",
          "x": 0.8399999999999999,
          "xanchor": "center",
          "xref": "paper",
          "y": 0.9999999999999999,
          "yanchor": "bottom",
          "yref": "paper"
         }
        ],
        "barmode": "group",
        "height": 800,
        "legend": {
         "title": {
          "text": "Sampler Algo"
         },
         "tracegroupgap": 0
        },
        "margin": {
         "t": 60
        },
        "template": {
         "data": {
          "bar": [
           {
            "error_x": {
             "color": "#2a3f5f"
            },
            "error_y": {
             "color": "#2a3f5f"
            },
            "marker": {
             "line": {
              "color": "#E5ECF6",
              "width": 0.5
             },
             "pattern": {
              "fillmode": "overlay",
              "size": 10,
              "solidity": 0.2
             }
            },
            "type": "bar"
           }
          ],
          "barpolar": [
           {
            "marker": {
             "line": {
              "color": "#E5ECF6",
              "width": 0.5
             },
             "pattern": {
              "fillmode": "overlay",
              "size": 10,
              "solidity": 0.2
             }
            },
            "type": "barpolar"
           }
          ],
          "carpet": [
           {
            "aaxis": {
             "endlinecolor": "#2a3f5f",
             "gridcolor": "white",
             "linecolor": "white",
             "minorgridcolor": "white",
             "startlinecolor": "#2a3f5f"
            },
            "baxis": {
             "endlinecolor": "#2a3f5f",
             "gridcolor": "white",
             "linecolor": "white",
             "minorgridcolor": "white",
             "startlinecolor": "#2a3f5f"
            },
            "type": "carpet"
           }
          ],
          "choropleth": [
           {
            "colorbar": {
             "outlinewidth": 0,
             "ticks": ""
            },
            "type": "choropleth"
           }
          ],
          "contour": [
           {
            "colorbar": {
             "outlinewidth": 0,
             "ticks": ""
            },
            "colorscale": [
             [
              0,
              "#0d0887"
             ],
             [
              0.1111111111111111,
              "#46039f"
             ],
             [
              0.2222222222222222,
              "#7201a8"
             ],
             [
              0.3333333333333333,
              "#9c179e"
             ],
             [
              0.4444444444444444,
              "#bd3786"
             ],
             [
              0.5555555555555556,
              "#d8576b"
             ],
             [
              0.6666666666666666,
              "#ed7953"
             ],
             [
              0.7777777777777778,
              "#fb9f3a"
             ],
             [
              0.8888888888888888,
              "#fdca26"
             ],
             [
              1,
              "#f0f921"
             ]
            ],
            "type": "contour"
           }
          ],
          "contourcarpet": [
           {
            "colorbar": {
             "outlinewidth": 0,
             "ticks": ""
            },
            "type": "contourcarpet"
           }
          ],
          "heatmap": [
           {
            "colorbar": {
             "outlinewidth": 0,
             "ticks": ""
            },
            "colorscale": [
             [
              0,
              "#0d0887"
             ],
             [
              0.1111111111111111,
              "#46039f"
             ],
             [
              0.2222222222222222,
              "#7201a8"
             ],
             [
              0.3333333333333333,
              "#9c179e"
             ],
             [
              0.4444444444444444,
              "#bd3786"
             ],
             [
              0.5555555555555556,
              "#d8576b"
             ],
             [
              0.6666666666666666,
              "#ed7953"
             ],
             [
              0.7777777777777778,
              "#fb9f3a"
             ],
             [
              0.8888888888888888,
              "#fdca26"
             ],
             [
              1,
              "#f0f921"
             ]
            ],
            "type": "heatmap"
           }
          ],
          "heatmapgl": [
           {
            "colorbar": {
             "outlinewidth": 0,
             "ticks": ""
            },
            "colorscale": [
             [
              0,
              "#0d0887"
             ],
             [
              0.1111111111111111,
              "#46039f"
             ],
             [
              0.2222222222222222,
              "#7201a8"
             ],
             [
              0.3333333333333333,
              "#9c179e"
             ],
             [
              0.4444444444444444,
              "#bd3786"
             ],
             [
              0.5555555555555556,
              "#d8576b"
             ],
             [
              0.6666666666666666,
              "#ed7953"
             ],
             [
              0.7777777777777778,
              "#fb9f3a"
             ],
             [
              0.8888888888888888,
              "#fdca26"
             ],
             [
              1,
              "#f0f921"
             ]
            ],
            "type": "heatmapgl"
           }
          ],
          "histogram": [
           {
            "marker": {
             "pattern": {
              "fillmode": "overlay",
              "size": 10,
              "solidity": 0.2
             }
            },
            "type": "histogram"
           }
          ],
          "histogram2d": [
           {
            "colorbar": {
             "outlinewidth": 0,
             "ticks": ""
            },
            "colorscale": [
             [
              0,
              "#0d0887"
             ],
             [
              0.1111111111111111,
              "#46039f"
             ],
             [
              0.2222222222222222,
              "#7201a8"
             ],
             [
              0.3333333333333333,
              "#9c179e"
             ],
             [
              0.4444444444444444,
              "#bd3786"
             ],
             [
              0.5555555555555556,
              "#d8576b"
             ],
             [
              0.6666666666666666,
              "#ed7953"
             ],
             [
              0.7777777777777778,
              "#fb9f3a"
             ],
             [
              0.8888888888888888,
              "#fdca26"
             ],
             [
              1,
              "#f0f921"
             ]
            ],
            "type": "histogram2d"
           }
          ],
          "histogram2dcontour": [
           {
            "colorbar": {
             "outlinewidth": 0,
             "ticks": ""
            },
            "colorscale": [
             [
              0,
              "#0d0887"
             ],
             [
              0.1111111111111111,
              "#46039f"
             ],
             [
              0.2222222222222222,
              "#7201a8"
             ],
             [
              0.3333333333333333,
              "#9c179e"
             ],
             [
              0.4444444444444444,
              "#bd3786"
             ],
             [
              0.5555555555555556,
              "#d8576b"
             ],
             [
              0.6666666666666666,
              "#ed7953"
             ],
             [
              0.7777777777777778,
              "#fb9f3a"
             ],
             [
              0.8888888888888888,
              "#fdca26"
             ],
             [
              1,
              "#f0f921"
             ]
            ],
            "type": "histogram2dcontour"
           }
          ],
          "mesh3d": [
           {
            "colorbar": {
             "outlinewidth": 0,
             "ticks": ""
            },
            "type": "mesh3d"
           }
          ],
          "parcoords": [
           {
            "line": {
             "colorbar": {
              "outlinewidth": 0,
              "ticks": ""
             }
            },
            "type": "parcoords"
           }
          ],
          "pie": [
           {
            "automargin": true,
            "type": "pie"
           }
          ],
          "scatter": [
           {
            "fillpattern": {
             "fillmode": "overlay",
             "size": 10,
             "solidity": 0.2
            },
            "type": "scatter"
           }
          ],
          "scatter3d": [
           {
            "line": {
             "colorbar": {
              "outlinewidth": 0,
              "ticks": ""
             }
            },
            "marker": {
             "colorbar": {
              "outlinewidth": 0,
              "ticks": ""
             }
            },
            "type": "scatter3d"
           }
          ],
          "scattercarpet": [
           {
            "marker": {
             "colorbar": {
              "outlinewidth": 0,
              "ticks": ""
             }
            },
            "type": "scattercarpet"
           }
          ],
          "scattergeo": [
           {
            "marker": {
             "colorbar": {
              "outlinewidth": 0,
              "ticks": ""
             }
            },
            "type": "scattergeo"
           }
          ],
          "scattergl": [
           {
            "marker": {
             "colorbar": {
              "outlinewidth": 0,
              "ticks": ""
             }
            },
            "type": "scattergl"
           }
          ],
          "scattermapbox": [
           {
            "marker": {
             "colorbar": {
              "outlinewidth": 0,
              "ticks": ""
             }
            },
            "type": "scattermapbox"
           }
          ],
          "scatterpolar": [
           {
            "marker": {
             "colorbar": {
              "outlinewidth": 0,
              "ticks": ""
             }
            },
            "type": "scatterpolar"
           }
          ],
          "scatterpolargl": [
           {
            "marker": {
             "colorbar": {
              "outlinewidth": 0,
              "ticks": ""
             }
            },
            "type": "scatterpolargl"
           }
          ],
          "scatterternary": [
           {
            "marker": {
             "colorbar": {
              "outlinewidth": 0,
              "ticks": ""
             }
            },
            "type": "scatterternary"
           }
          ],
          "surface": [
           {
            "colorbar": {
             "outlinewidth": 0,
             "ticks": ""
            },
            "colorscale": [
             [
              0,
              "#0d0887"
             ],
             [
              0.1111111111111111,
              "#46039f"
             ],
             [
              0.2222222222222222,
              "#7201a8"
             ],
             [
              0.3333333333333333,
              "#9c179e"
             ],
             [
              0.4444444444444444,
              "#bd3786"
             ],
             [
              0.5555555555555556,
              "#d8576b"
             ],
             [
              0.6666666666666666,
              "#ed7953"
             ],
             [
              0.7777777777777778,
              "#fb9f3a"
             ],
             [
              0.8888888888888888,
              "#fdca26"
             ],
             [
              1,
              "#f0f921"
             ]
            ],
            "type": "surface"
           }
          ],
          "table": [
           {
            "cells": {
             "fill": {
              "color": "#EBF0F8"
             },
             "line": {
              "color": "white"
             }
            },
            "header": {
             "fill": {
              "color": "#C8D4E3"
             },
             "line": {
              "color": "white"
             }
            },
            "type": "table"
           }
          ]
         },
         "layout": {
          "annotationdefaults": {
           "arrowcolor": "#2a3f5f",
           "arrowhead": 0,
           "arrowwidth": 1
          },
          "autotypenumbers": "strict",
          "coloraxis": {
           "colorbar": {
            "outlinewidth": 0,
            "ticks": ""
           }
          },
          "colorscale": {
           "diverging": [
            [
             0,
             "#8e0152"
            ],
            [
             0.1,
             "#c51b7d"
            ],
            [
             0.2,
             "#de77ae"
            ],
            [
             0.3,
             "#f1b6da"
            ],
            [
             0.4,
             "#fde0ef"
            ],
            [
             0.5,
             "#f7f7f7"
            ],
            [
             0.6,
             "#e6f5d0"
            ],
            [
             0.7,
             "#b8e186"
            ],
            [
             0.8,
             "#7fbc41"
            ],
            [
             0.9,
             "#4d9221"
            ],
            [
             1,
             "#276419"
            ]
           ],
           "sequential": [
            [
             0,
             "#0d0887"
            ],
            [
             0.1111111111111111,
             "#46039f"
            ],
            [
             0.2222222222222222,
             "#7201a8"
            ],
            [
             0.3333333333333333,
             "#9c179e"
            ],
            [
             0.4444444444444444,
             "#bd3786"
            ],
            [
             0.5555555555555556,
             "#d8576b"
            ],
            [
             0.6666666666666666,
             "#ed7953"
            ],
            [
             0.7777777777777778,
             "#fb9f3a"
            ],
            [
             0.8888888888888888,
             "#fdca26"
            ],
            [
             1,
             "#f0f921"
            ]
           ],
           "sequentialminus": [
            [
             0,
             "#0d0887"
            ],
            [
             0.1111111111111111,
             "#46039f"
            ],
            [
             0.2222222222222222,
             "#7201a8"
            ],
            [
             0.3333333333333333,
             "#9c179e"
            ],
            [
             0.4444444444444444,
             "#bd3786"
            ],
            [
             0.5555555555555556,
             "#d8576b"
            ],
            [
             0.6666666666666666,
             "#ed7953"
            ],
            [
             0.7777777777777778,
             "#fb9f3a"
            ],
            [
             0.8888888888888888,
             "#fdca26"
            ],
            [
             1,
             "#f0f921"
            ]
           ]
          },
          "colorway": [
           "#636efa",
           "#EF553B",
           "#00cc96",
           "#ab63fa",
           "#FFA15A",
           "#19d3f3",
           "#FF6692",
           "#B6E880",
           "#FF97FF",
           "#FECB52"
          ],
          "font": {
           "color": "#2a3f5f"
          },
          "geo": {
           "bgcolor": "white",
           "lakecolor": "white",
           "landcolor": "#E5ECF6",
           "showlakes": true,
           "showland": true,
           "subunitcolor": "white"
          },
          "hoverlabel": {
           "align": "left"
          },
          "hovermode": "closest",
          "mapbox": {
           "style": "light"
          },
          "paper_bgcolor": "white",
          "plot_bgcolor": "#E5ECF6",
          "polar": {
           "angularaxis": {
            "gridcolor": "white",
            "linecolor": "white",
            "ticks": ""
           },
           "bgcolor": "#E5ECF6",
           "radialaxis": {
            "gridcolor": "white",
            "linecolor": "white",
            "ticks": ""
           }
          },
          "scene": {
           "xaxis": {
            "backgroundcolor": "#E5ECF6",
            "gridcolor": "white",
            "gridwidth": 2,
            "linecolor": "white",
            "showbackground": true,
            "ticks": "",
            "zerolinecolor": "white"
           },
           "yaxis": {
            "backgroundcolor": "#E5ECF6",
            "gridcolor": "white",
            "gridwidth": 2,
            "linecolor": "white",
            "showbackground": true,
            "ticks": "",
            "zerolinecolor": "white"
           },
           "zaxis": {
            "backgroundcolor": "#E5ECF6",
            "gridcolor": "white",
            "gridwidth": 2,
            "linecolor": "white",
            "showbackground": true,
            "ticks": "",
            "zerolinecolor": "white"
           }
          },
          "shapedefaults": {
           "line": {
            "color": "#2a3f5f"
           }
          },
          "ternary": {
           "aaxis": {
            "gridcolor": "white",
            "linecolor": "white",
            "ticks": ""
           },
           "baxis": {
            "gridcolor": "white",
            "linecolor": "white",
            "ticks": ""
           },
           "bgcolor": "#E5ECF6",
           "caxis": {
            "gridcolor": "white",
            "linecolor": "white",
            "ticks": ""
           }
          },
          "title": {
           "x": 0.05
          },
          "xaxis": {
           "automargin": true,
           "gridcolor": "white",
           "linecolor": "white",
           "ticks": "",
           "title": {
            "standoff": 15
           },
           "zerolinecolor": "white",
           "zerolinewidth": 2
          },
          "yaxis": {
           "automargin": true,
           "gridcolor": "white",
           "linecolor": "white",
           "ticks": "",
           "title": {
            "standoff": 15
           },
           "zerolinecolor": "white",
           "zerolinewidth": 2
          }
         }
        },
        "xaxis": {
         "anchor": "y",
         "domain": [
          0,
          0.31999999999999995
         ],
         "title": {
          "text": "Number of Players (log2 scale)"
         }
        },
        "xaxis2": {
         "anchor": "y2",
         "domain": [
          0.33999999999999997,
          0.6599999999999999
         ],
         "matches": "x",
         "title": {
          "text": "Number of Players (log2 scale)"
         }
        },
        "xaxis3": {
         "anchor": "y3",
         "domain": [
          0.6799999999999999,
          0.9999999999999999
         ],
         "matches": "x",
         "title": {
          "text": "Number of Players (log2 scale)"
         }
        },
        "xaxis4": {
         "anchor": "y4",
         "domain": [
          0,
          0.31999999999999995
         ],
         "matches": "x",
         "showticklabels": false
        },
        "xaxis5": {
         "anchor": "y5",
         "domain": [
          0.33999999999999997,
          0.6599999999999999
         ],
         "matches": "x",
         "showticklabels": false
        },
        "xaxis6": {
         "anchor": "y6",
         "domain": [
          0.6799999999999999,
          0.9999999999999999
         ],
         "matches": "x",
         "showticklabels": false
        },
        "xaxis7": {
         "anchor": "y7",
         "domain": [
          0,
          0.31999999999999995
         ],
         "matches": "x",
         "showticklabels": false
        },
        "xaxis8": {
         "anchor": "y8",
         "domain": [
          0.33999999999999997,
          0.6599999999999999
         ],
         "matches": "x",
         "showticklabels": false
        },
        "xaxis9": {
         "anchor": "y9",
         "domain": [
          0.6799999999999999,
          0.9999999999999999
         ],
         "matches": "x",
         "showticklabels": false
        },
        "yaxis": {
         "anchor": "x",
         "domain": [
          0,
          0.2866666666666666
         ],
         "title": {
          "text": "Runtime (ms/invocation)"
         }
        },
        "yaxis2": {
         "anchor": "x2",
         "domain": [
          0,
          0.2866666666666666
         ],
         "matches": "y",
         "showticklabels": false
        },
        "yaxis3": {
         "anchor": "x3",
         "domain": [
          0,
          0.2866666666666666
         ],
         "matches": "y",
         "showticklabels": false
        },
        "yaxis4": {
         "anchor": "x4",
         "domain": [
          0.35666666666666663,
          0.6433333333333333
         ],
         "matches": "y",
         "title": {
          "text": "Runtime (ms/invocation)"
         }
        },
        "yaxis5": {
         "anchor": "x5",
         "domain": [
          0.35666666666666663,
          0.6433333333333333
         ],
         "matches": "y",
         "showticklabels": false
        },
        "yaxis6": {
         "anchor": "x6",
         "domain": [
          0.35666666666666663,
          0.6433333333333333
         ],
         "matches": "y",
         "showticklabels": false
        },
        "yaxis7": {
         "anchor": "x7",
         "domain": [
          0.7133333333333333,
          0.9999999999999999
         ],
         "matches": "y",
         "title": {
          "text": "Runtime (ms/invocation)"
         }
        },
        "yaxis8": {
         "anchor": "x8",
         "domain": [
          0.7133333333333333,
          0.9999999999999999
         ],
         "matches": "y",
         "showticklabels": false
        },
        "yaxis9": {
         "anchor": "x9",
         "domain": [
          0.7133333333333333,
          0.9999999999999999
         ],
         "matches": "y",
         "showticklabels": false
        }
       }
      }
     },
     "metadata": {},
     "output_type": "display_data"
    }
   ],
   "source": [
    "px.bar(\n",
    "    results,\n",
    "    x=\"Number of Players (log2 scale)\",\n",
    "    y=\"Runtime (ms/invocation)\",\n",
    "    color=\"Sampler Algo\",\n",
    "    facet_col=\"Batch Size\",\n",
    "    facet_col_wrap=3,\n",
    "    barmode=\"group\",\n",
    "    height=800,\n",
    ")"
   ]
  }
 ],
 "metadata": {
  "kernelspec": {
   "display_name": "introba",
   "language": "python",
   "name": "python3"
  },
  "language_info": {
   "codemirror_mode": {
    "name": "ipython",
    "version": 3
   },
   "file_extension": ".py",
   "mimetype": "text/x-python",
   "name": "python",
   "nbconvert_exporter": "python",
   "pygments_lexer": "ipython3",
   "version": "3.9.16"
  },
  "orig_nbformat": 4
 },
 "nbformat": 4,
 "nbformat_minor": 2
}
